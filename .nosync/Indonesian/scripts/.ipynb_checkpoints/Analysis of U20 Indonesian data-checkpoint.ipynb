{
 "cells": [
  {
   "cell_type": "markdown",
   "metadata": {},
   "source": [
    "# Analysis of U20 lab-based replication"
   ]
  },
  {
   "cell_type": "markdown",
   "metadata": {},
   "source": [
    "Load libraries and data in."
   ]
  },
  {
   "cell_type": "code",
   "execution_count": 2,
   "metadata": {
    "collapsed": false
   },
   "outputs": [],
   "source": [
    "%matplotlib inline\n",
    "\n",
    "import pandas as pd\n",
    "import seaborn as sns\n",
    "from numpy import * \n",
    "\n",
    "# %run clean-data.py # concatenates and cleans data into DataFrame called df\n",
    "df = pd.read_csv('../data/U20Indonesian_TestData.csv')"
   ]
  },
  {
   "cell_type": "markdown",
   "metadata": {},
   "source": [
    "Check that data were loaded correctly."
   ]
  },
  {
   "cell_type": "code",
   "execution_count": 3,
   "metadata": {
    "collapsed": false
   },
   "outputs": [
    {
     "data": {
      "text/html": [
       "<div>\n",
       "<table border=\"1\" class=\"dataframe\">\n",
       "  <thead>\n",
       "    <tr style=\"text-align: right;\">\n",
       "      <th></th>\n",
       "      <th>ID</th>\n",
       "      <th>sex</th>\n",
       "      <th>condition</th>\n",
       "      <th>trials</th>\n",
       "      <th>phase</th>\n",
       "      <th>trial</th>\n",
       "      <th>type</th>\n",
       "      <th>correctChoice</th>\n",
       "      <th>choice1</th>\n",
       "      <th>choice2</th>\n",
       "      <th>...</th>\n",
       "      <th>mod</th>\n",
       "      <th>oldNoun</th>\n",
       "      <th>oldMod1</th>\n",
       "      <th>oldMod2</th>\n",
       "      <th>choiceType1</th>\n",
       "      <th>choiceType2</th>\n",
       "      <th>choiceType3</th>\n",
       "      <th>choiceType4</th>\n",
       "      <th>choice</th>\n",
       "      <th>binaryCorrect</th>\n",
       "    </tr>\n",
       "  </thead>\n",
       "  <tbody>\n",
       "    <tr>\n",
       "      <th>3999</th>\n",
       "      <td>id_Thu Jul 13 2017 07:24:48 GMT+0700 (WIB)</td>\n",
       "      <td>female</td>\n",
       "      <td>condition_AdjDem</td>\n",
       "      <td>testTrial48_inner-outer_1_this round pig_pig t...</td>\n",
       "      <td>test</td>\n",
       "      <td>testTrial48</td>\n",
       "      <td>inner-outer</td>\n",
       "      <td>1</td>\n",
       "      <td>this round pig</td>\n",
       "      <td>pig this round</td>\n",
       "      <td>...</td>\n",
       "      <td>pig</td>\n",
       "      <td>True</td>\n",
       "      <td>False</td>\n",
       "      <td>True</td>\n",
       "      <td>Outer-Inner-N</td>\n",
       "      <td>N-Outer-Inner</td>\n",
       "      <td>Inner-Outer-N</td>\n",
       "      <td>N-Inner-Outer</td>\n",
       "      <td>1</td>\n",
       "      <td>1</td>\n",
       "    </tr>\n",
       "    <tr>\n",
       "      <th>2039</th>\n",
       "      <td>id_Sat Jul 08 2017 15:32:15 GMT+0700 (SE Asia ...</td>\n",
       "      <td>female</td>\n",
       "      <td>condition_AdjDem</td>\n",
       "      <td>testTrial8_inner-outer_4_round that table_tabl...</td>\n",
       "      <td>test</td>\n",
       "      <td>testTrial8</td>\n",
       "      <td>inner-outer</td>\n",
       "      <td>4</td>\n",
       "      <td>round that table</td>\n",
       "      <td>table round that</td>\n",
       "      <td>...</td>\n",
       "      <td>table</td>\n",
       "      <td>True</td>\n",
       "      <td>True</td>\n",
       "      <td>True</td>\n",
       "      <td>Inner-Outer-N</td>\n",
       "      <td>N-Inner-Outer</td>\n",
       "      <td>N-Outer-Inner</td>\n",
       "      <td>Outer-Inner-N</td>\n",
       "      <td>4</td>\n",
       "      <td>1</td>\n",
       "    </tr>\n",
       "    <tr>\n",
       "      <th>5496</th>\n",
       "      <td>id_Tue Jun 27 2017 14:30:41 GMT+0700 (WIB) 8407</td>\n",
       "      <td>female</td>\n",
       "      <td>condition_AdjNum</td>\n",
       "      <td>testTrial25_inner-outer_1_six purple pillow_pi...</td>\n",
       "      <td>test</td>\n",
       "      <td>testTrial25</td>\n",
       "      <td>inner-outer</td>\n",
       "      <td>1</td>\n",
       "      <td>six purple pillow</td>\n",
       "      <td>pillow purple six</td>\n",
       "      <td>...</td>\n",
       "      <td>pillow</td>\n",
       "      <td>True</td>\n",
       "      <td>True</td>\n",
       "      <td>True</td>\n",
       "      <td>Outer-Inner-N</td>\n",
       "      <td>N-Inner-Outer</td>\n",
       "      <td>N-Outer-Inner</td>\n",
       "      <td>Inner-Outer-N</td>\n",
       "      <td>1</td>\n",
       "      <td>1</td>\n",
       "    </tr>\n",
       "    <tr>\n",
       "      <th>2439</th>\n",
       "      <td>id_Sat Jun 24 2017 19:28:28 GMT+0700 (SE Asia ...</td>\n",
       "      <td>male</td>\n",
       "      <td>condition_AdjDem</td>\n",
       "      <td>testTrial8_inner-outer_4_shoe this spotted_spo...</td>\n",
       "      <td>test</td>\n",
       "      <td>testTrial8</td>\n",
       "      <td>inner-outer</td>\n",
       "      <td>4</td>\n",
       "      <td>shoe this spotted</td>\n",
       "      <td>spotted this shoe</td>\n",
       "      <td>...</td>\n",
       "      <td>shoe</td>\n",
       "      <td>True</td>\n",
       "      <td>True</td>\n",
       "      <td>True</td>\n",
       "      <td>N-Outer-Inner</td>\n",
       "      <td>Inner-Outer-N</td>\n",
       "      <td>N-Inner-Outer</td>\n",
       "      <td>Outer-Inner-N</td>\n",
       "      <td>4</td>\n",
       "      <td>1</td>\n",
       "    </tr>\n",
       "    <tr>\n",
       "      <th>293</th>\n",
       "      <td>id_Fri Jul 14 2017 21:14:41 GMT+0700 (WIB)</td>\n",
       "      <td>NaN</td>\n",
       "      <td>condition_NumDem</td>\n",
       "      <td>testTrial22_outer_2_hat that_that hat_----_---...</td>\n",
       "      <td>test</td>\n",
       "      <td>testTrial22</td>\n",
       "      <td>outer</td>\n",
       "      <td>2</td>\n",
       "      <td>hat that</td>\n",
       "      <td>that hat</td>\n",
       "      <td>...</td>\n",
       "      <td>hat</td>\n",
       "      <td>True</td>\n",
       "      <td>True</td>\n",
       "      <td>NaN</td>\n",
       "      <td>NaN</td>\n",
       "      <td>NaN</td>\n",
       "      <td>NaN</td>\n",
       "      <td>NaN</td>\n",
       "      <td>2</td>\n",
       "      <td>1</td>\n",
       "    </tr>\n",
       "    <tr>\n",
       "      <th>874</th>\n",
       "      <td>id_Fri Jun 30 2017 20:09:25 GMT+0700 (SE Asia ...</td>\n",
       "      <td>female</td>\n",
       "      <td>condition_NumDem</td>\n",
       "      <td>testTrial43_outer_2_pear that_that pear_----_-...</td>\n",
       "      <td>test</td>\n",
       "      <td>testTrial43</td>\n",
       "      <td>outer</td>\n",
       "      <td>2</td>\n",
       "      <td>pear that</td>\n",
       "      <td>that pear</td>\n",
       "      <td>...</td>\n",
       "      <td>pear</td>\n",
       "      <td>False</td>\n",
       "      <td>True</td>\n",
       "      <td>NaN</td>\n",
       "      <td>NaN</td>\n",
       "      <td>NaN</td>\n",
       "      <td>NaN</td>\n",
       "      <td>NaN</td>\n",
       "      <td>2</td>\n",
       "      <td>1</td>\n",
       "    </tr>\n",
       "    <tr>\n",
       "      <th>4713</th>\n",
       "      <td>id_Thu Jun 29 2017 23:44:21 GMT+0700 (WIB) 7622</td>\n",
       "      <td>male</td>\n",
       "      <td>condition_AdjDem</td>\n",
       "      <td>testTrial42_inner-outer_4_pillow dirty this_di...</td>\n",
       "      <td>test</td>\n",
       "      <td>testTrial42</td>\n",
       "      <td>inner-outer</td>\n",
       "      <td>4</td>\n",
       "      <td>pillow dirty this</td>\n",
       "      <td>dirty this pillow</td>\n",
       "      <td>...</td>\n",
       "      <td>pillow</td>\n",
       "      <td>False</td>\n",
       "      <td>True</td>\n",
       "      <td>True</td>\n",
       "      <td>N-Inner-Outer</td>\n",
       "      <td>Inner-Outer-N</td>\n",
       "      <td>N-Outer-Inner</td>\n",
       "      <td>Outer-Inner-N</td>\n",
       "      <td>2</td>\n",
       "      <td>0</td>\n",
       "    </tr>\n",
       "    <tr>\n",
       "      <th>5107</th>\n",
       "      <td>id_Tue Jul 11 2017 21:16:23 GMT+0700 (SE Asia ...</td>\n",
       "      <td>female</td>\n",
       "      <td>condition_NumDem</td>\n",
       "      <td>testTrial36_outer_1_this horse_horse this_----...</td>\n",
       "      <td>test</td>\n",
       "      <td>testTrial36</td>\n",
       "      <td>outer</td>\n",
       "      <td>1</td>\n",
       "      <td>this horse</td>\n",
       "      <td>horse this</td>\n",
       "      <td>...</td>\n",
       "      <td>horse</td>\n",
       "      <td>True</td>\n",
       "      <td>True</td>\n",
       "      <td>NaN</td>\n",
       "      <td>NaN</td>\n",
       "      <td>NaN</td>\n",
       "      <td>NaN</td>\n",
       "      <td>NaN</td>\n",
       "      <td>1</td>\n",
       "      <td>1</td>\n",
       "    </tr>\n",
       "    <tr>\n",
       "      <th>2204</th>\n",
       "      <td>id_Sat Jul 15 2017 22:36:02 GMT+0700 (SE Asia ...</td>\n",
       "      <td>female</td>\n",
       "      <td>condition_AdjNum</td>\n",
       "      <td>testTrial13_inner-outer_3_tie soft four_soft f...</td>\n",
       "      <td>test</td>\n",
       "      <td>testTrial13</td>\n",
       "      <td>inner-outer</td>\n",
       "      <td>3</td>\n",
       "      <td>tie soft four</td>\n",
       "      <td>soft four tie</td>\n",
       "      <td>...</td>\n",
       "      <td>tie</td>\n",
       "      <td>True</td>\n",
       "      <td>True</td>\n",
       "      <td>True</td>\n",
       "      <td>N-Inner-Outer</td>\n",
       "      <td>Inner-Outer-N</td>\n",
       "      <td>Outer-Inner-N</td>\n",
       "      <td>N-Outer-Inner</td>\n",
       "      <td>3</td>\n",
       "      <td>1</td>\n",
       "    </tr>\n",
       "    <tr>\n",
       "      <th>992</th>\n",
       "      <td>id_Mon Jul 03 2017 11:43:20 GMT+0700 (SE Asia ...</td>\n",
       "      <td>male</td>\n",
       "      <td>condition_AdjDem</td>\n",
       "      <td>testTrial1_inner-outer_1_this purple cherry_pu...</td>\n",
       "      <td>test</td>\n",
       "      <td>testTrial1</td>\n",
       "      <td>inner-outer</td>\n",
       "      <td>1</td>\n",
       "      <td>this purple cherry</td>\n",
       "      <td>purple this cherry</td>\n",
       "      <td>...</td>\n",
       "      <td>cherry</td>\n",
       "      <td>True</td>\n",
       "      <td>True</td>\n",
       "      <td>True</td>\n",
       "      <td>Outer-Inner-N</td>\n",
       "      <td>Inner-Outer-N</td>\n",
       "      <td>N-Inner-Outer</td>\n",
       "      <td>N-Outer-Inner</td>\n",
       "      <td>4</td>\n",
       "      <td>0</td>\n",
       "    </tr>\n",
       "  </tbody>\n",
       "</table>\n",
       "<p>10 rows × 23 columns</p>\n",
       "</div>"
      ],
      "text/plain": [
       "                                                     ID     sex  \\\n",
       "3999         id_Thu Jul 13 2017 07:24:48 GMT+0700 (WIB)  female   \n",
       "2039  id_Sat Jul 08 2017 15:32:15 GMT+0700 (SE Asia ...  female   \n",
       "5496    id_Tue Jun 27 2017 14:30:41 GMT+0700 (WIB) 8407  female   \n",
       "2439  id_Sat Jun 24 2017 19:28:28 GMT+0700 (SE Asia ...    male   \n",
       "293          id_Fri Jul 14 2017 21:14:41 GMT+0700 (WIB)     NaN   \n",
       "874   id_Fri Jun 30 2017 20:09:25 GMT+0700 (SE Asia ...  female   \n",
       "4713    id_Thu Jun 29 2017 23:44:21 GMT+0700 (WIB) 7622    male   \n",
       "5107  id_Tue Jul 11 2017 21:16:23 GMT+0700 (SE Asia ...  female   \n",
       "2204  id_Sat Jul 15 2017 22:36:02 GMT+0700 (SE Asia ...  female   \n",
       "992   id_Mon Jul 03 2017 11:43:20 GMT+0700 (SE Asia ...    male   \n",
       "\n",
       "             condition                                             trials  \\\n",
       "3999  condition_AdjDem  testTrial48_inner-outer_1_this round pig_pig t...   \n",
       "2039  condition_AdjDem  testTrial8_inner-outer_4_round that table_tabl...   \n",
       "5496  condition_AdjNum  testTrial25_inner-outer_1_six purple pillow_pi...   \n",
       "2439  condition_AdjDem  testTrial8_inner-outer_4_shoe this spotted_spo...   \n",
       "293   condition_NumDem  testTrial22_outer_2_hat that_that hat_----_---...   \n",
       "874   condition_NumDem  testTrial43_outer_2_pear that_that pear_----_-...   \n",
       "4713  condition_AdjDem  testTrial42_inner-outer_4_pillow dirty this_di...   \n",
       "5107  condition_NumDem  testTrial36_outer_1_this horse_horse this_----...   \n",
       "2204  condition_AdjNum  testTrial13_inner-outer_3_tie soft four_soft f...   \n",
       "992   condition_AdjDem  testTrial1_inner-outer_1_this purple cherry_pu...   \n",
       "\n",
       "     phase        trial         type  correctChoice             choice1  \\\n",
       "3999  test  testTrial48  inner-outer              1      this round pig   \n",
       "2039  test   testTrial8  inner-outer              4    round that table   \n",
       "5496  test  testTrial25  inner-outer              1   six purple pillow   \n",
       "2439  test   testTrial8  inner-outer              4   shoe this spotted   \n",
       "293   test  testTrial22        outer              2            hat that   \n",
       "874   test  testTrial43        outer              2           pear that   \n",
       "4713  test  testTrial42  inner-outer              4   pillow dirty this   \n",
       "5107  test  testTrial36        outer              1          this horse   \n",
       "2204  test  testTrial13  inner-outer              3       tie soft four   \n",
       "992   test   testTrial1  inner-outer              1  this purple cherry   \n",
       "\n",
       "                 choice2      ...          mod oldNoun oldMod1 oldMod2  \\\n",
       "3999      pig this round      ...          pig    True   False    True   \n",
       "2039    table round that      ...        table    True    True    True   \n",
       "5496   pillow purple six      ...       pillow    True    True    True   \n",
       "2439   spotted this shoe      ...         shoe    True    True    True   \n",
       "293             that hat      ...          hat    True    True     NaN   \n",
       "874            that pear      ...         pear   False    True     NaN   \n",
       "4713   dirty this pillow      ...       pillow   False    True    True   \n",
       "5107          horse this      ...        horse    True    True     NaN   \n",
       "2204       soft four tie      ...          tie    True    True    True   \n",
       "992   purple this cherry      ...       cherry    True    True    True   \n",
       "\n",
       "        choiceType1    choiceType2    choiceType3    choiceType4 choice  \\\n",
       "3999  Outer-Inner-N  N-Outer-Inner  Inner-Outer-N  N-Inner-Outer      1   \n",
       "2039  Inner-Outer-N  N-Inner-Outer  N-Outer-Inner  Outer-Inner-N      4   \n",
       "5496  Outer-Inner-N  N-Inner-Outer  N-Outer-Inner  Inner-Outer-N      1   \n",
       "2439  N-Outer-Inner  Inner-Outer-N  N-Inner-Outer  Outer-Inner-N      4   \n",
       "293             NaN            NaN            NaN            NaN      2   \n",
       "874             NaN            NaN            NaN            NaN      2   \n",
       "4713  N-Inner-Outer  Inner-Outer-N  N-Outer-Inner  Outer-Inner-N      2   \n",
       "5107            NaN            NaN            NaN            NaN      1   \n",
       "2204  N-Inner-Outer  Inner-Outer-N  Outer-Inner-N  N-Outer-Inner      3   \n",
       "992   Outer-Inner-N  Inner-Outer-N  N-Inner-Outer  N-Outer-Inner      4   \n",
       "\n",
       "     binaryCorrect  \n",
       "3999             1  \n",
       "2039             1  \n",
       "5496             1  \n",
       "2439             1  \n",
       "293              1  \n",
       "874              1  \n",
       "4713             0  \n",
       "5107             1  \n",
       "2204             1  \n",
       "992              0  \n",
       "\n",
       "[10 rows x 23 columns]"
      ]
     },
     "execution_count": 3,
     "metadata": {},
     "output_type": "execute_result"
    }
   ],
   "source": [
    "df.sample(10)"
   ]
  },
  {
   "cell_type": "markdown",
   "metadata": {},
   "source": [
    "Select data from the test phase only."
   ]
  },
  {
   "cell_type": "code",
   "execution_count": null,
   "metadata": {
    "collapsed": true
   },
   "outputs": [],
   "source": []
  },
  {
   "cell_type": "markdown",
   "metadata": {},
   "source": [
    "Check how many participants we have in each condition:"
   ]
  },
  {
   "cell_type": "code",
   "execution_count": 5,
   "metadata": {
    "collapsed": false
   },
   "outputs": [
    {
     "data": {
      "text/plain": [
       "condition\n",
       "condition_AdjDem    28\n",
       "condition_AdjNum    31\n",
       "condition_NumDem    32\n",
       "Name: ID, dtype: int64"
      ]
     },
     "execution_count": 5,
     "metadata": {},
     "output_type": "execute_result"
    }
   ],
   "source": [
    "df.groupby('condition').ID.nunique()"
   ]
  },
  {
   "cell_type": "markdown",
   "metadata": {},
   "source": [
    "Check by participant accuracy on single-modifier trials.  The critical column is `post` denoting whether or not (1 or 0) a response was postnominal."
   ]
  },
  {
   "cell_type": "code",
   "execution_count": null,
   "metadata": {
    "collapsed": false
   },
   "outputs": [],
   "source": [
    "df[df.nbMods == 1].groupby(['suj', 'cond']).post.mean()"
   ]
  },
  {
   "cell_type": "markdown",
   "metadata": {},
   "source": [
    "Plot histogram of single-modifier trial accuracy."
   ]
  },
  {
   "cell_type": "code",
   "execution_count": null,
   "metadata": {
    "collapsed": false
   },
   "outputs": [],
   "source": [
    "df[df.nbMods == 1].groupby(['suj', 'cond']).post.hist()"
   ]
  },
  {
   "cell_type": "code",
   "execution_count": null,
   "metadata": {
    "collapsed": true
   },
   "outputs": [],
   "source": [
    "aggregators = {'iso':mean}\n",
    "\n",
    "gp = df[df.nbMods == 2].groupby(['suj', 'cond'], as_index=False).agg(aggregators)"
   ]
  },
  {
   "cell_type": "code",
   "execution_count": null,
   "metadata": {
    "collapsed": false
   },
   "outputs": [],
   "source": [
    "ax = sns.swarmplot(x='cond', y='iso', data=gp)\n",
    "ax.set(ylim=(-0.05,1.05))"
   ]
  },
  {
   "cell_type": "markdown",
   "metadata": {},
   "source": [
    "Prepare to do R modelling."
   ]
  },
  {
   "cell_type": "code",
   "execution_count": null,
   "metadata": {
    "collapsed": true
   },
   "outputs": [],
   "source": [
    "%load_ext rpy2.ipython"
   ]
  },
  {
   "cell_type": "markdown",
   "metadata": {},
   "source": [
    "Load in data and create subsets on which each model will be run."
   ]
  },
  {
   "cell_type": "code",
   "execution_count": null,
   "metadata": {
    "collapsed": true
   },
   "outputs": [],
   "source": [
    "%%R\n",
    "library('lme4')\n",
    "\n",
    "d <- read.csv('../data/test/ENGtest.csv')\n",
    "test <- subset(d, d$nbMods==2) # only select two modifier trials\n",
    "\n",
    "testAdjDem <- subset(test, test$cond==\"dem-adj\")\n",
    "testAdjNum <- subset(test, test$cond==\"num-adj\")\n",
    "testNumDem <- subset(test, test$cond==\"dem-num\")"
   ]
  },
  {
   "cell_type": "markdown",
   "metadata": {},
   "source": [
    "Run models for the adj-dem condition, and test whether intercept is significantly different from chance level."
   ]
  },
  {
   "cell_type": "code",
   "execution_count": null,
   "metadata": {
    "collapsed": false
   },
   "outputs": [],
   "source": [
    "%%R\n",
    "\n",
    "m1AdjDem <- glmer(iso ~ 1 + (1|suj) + (1|nounSing), family=binomial, data=testAdjDem)\n",
    "m0AdjDem <- glmer(iso ~ 0 + (1|suj) + (1|nounSing), family=binomial, data=testAdjDem)\n",
    "\n",
    "anova(m1AdjDem, m0AdjDem)"
   ]
  },
  {
   "cell_type": "markdown",
   "metadata": {
    "collapsed": true
   },
   "source": [
    "Run models for the adj-num condition, and test whether intercept is significantly different from chance level."
   ]
  },
  {
   "cell_type": "code",
   "execution_count": null,
   "metadata": {
    "collapsed": false
   },
   "outputs": [],
   "source": [
    "%%R\n",
    "\n",
    "m1AdjNum <- glmer(iso ~ 1 + (1|suj) + (1|nounSing), family=binomial, data=testAdjNum)\n",
    "m0AdjNum <- glmer(iso ~ 0 + (1|suj) + (1|nounSing), family=binomial, data=testAdjNum)\n",
    "\n",
    "anova(m1AdjNum, m0AdjNum)"
   ]
  },
  {
   "cell_type": "markdown",
   "metadata": {},
   "source": [
    "Run models for the num-dem condition, and test whether intercept is significantly different from chance level."
   ]
  },
  {
   "cell_type": "code",
   "execution_count": null,
   "metadata": {
    "collapsed": false
   },
   "outputs": [],
   "source": [
    "%%R\n",
    "\n",
    "m1NumDem <- glmer(iso ~ 1 + (1|suj) + (1|nounSing), family=binomial, data=testNumDem)\n",
    "m0NumDem <- glmer(iso ~ 0 + (1|suj) + (1|nounSing), family=binomial, data=testNumDem)\n",
    "\n",
    "anova(m1NumDem, m0NumDem)"
   ]
  }
 ],
 "metadata": {
  "kernelspec": {
   "display_name": "Python 2",
   "language": "python",
   "name": "python2"
  },
  "language_info": {
   "codemirror_mode": {
    "name": "ipython",
    "version": 2
   },
   "file_extension": ".py",
   "mimetype": "text/x-python",
   "name": "python",
   "nbconvert_exporter": "python",
   "pygments_lexer": "ipython2",
   "version": "2.7.14"
  }
 },
 "nbformat": 4,
 "nbformat_minor": 1
}
