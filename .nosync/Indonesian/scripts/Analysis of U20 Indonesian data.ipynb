{
 "cells": [
  {
   "cell_type": "markdown",
   "metadata": {},
   "source": [
    "# Analysis of U20 Indonesian data"
   ]
  },
  {
   "cell_type": "markdown",
   "metadata": {},
   "source": [
    "Load libraries and data in."
   ]
  },
  {
   "cell_type": "code",
   "execution_count": 1,
   "metadata": {},
   "outputs": [],
   "source": [
    "%matplotlib inline\n",
    "\n",
    "import pandas as pd\n",
    "import seaborn as sns\n",
    "from numpy import * \n",
    "\n",
    "# %run clean-data.py # concatenates and cleans data into DataFrame called df\n",
    "df = pd.read_csv('../data/U20Indonesian_TestData.csv')"
   ]
  },
  {
   "cell_type": "markdown",
   "metadata": {},
   "source": [
    "Check that data were loaded correctly."
   ]
  },
  {
   "cell_type": "code",
   "execution_count": 2,
   "metadata": {},
   "outputs": [
    {
     "data": {
      "text/html": [
       "<div>\n",
       "<style scoped>\n",
       "    .dataframe tbody tr th:only-of-type {\n",
       "        vertical-align: middle;\n",
       "    }\n",
       "\n",
       "    .dataframe tbody tr th {\n",
       "        vertical-align: top;\n",
       "    }\n",
       "\n",
       "    .dataframe thead th {\n",
       "        text-align: right;\n",
       "    }\n",
       "</style>\n",
       "<table border=\"1\" class=\"dataframe\">\n",
       "  <thead>\n",
       "    <tr style=\"text-align: right;\">\n",
       "      <th></th>\n",
       "      <th>ID</th>\n",
       "      <th>sex</th>\n",
       "      <th>condition</th>\n",
       "      <th>trials</th>\n",
       "      <th>phase</th>\n",
       "      <th>trial</th>\n",
       "      <th>type</th>\n",
       "      <th>correctChoice</th>\n",
       "      <th>choice1</th>\n",
       "      <th>choice2</th>\n",
       "      <th>...</th>\n",
       "      <th>mod</th>\n",
       "      <th>oldNoun</th>\n",
       "      <th>oldMod1</th>\n",
       "      <th>oldMod2</th>\n",
       "      <th>choiceType1</th>\n",
       "      <th>choiceType2</th>\n",
       "      <th>choiceType3</th>\n",
       "      <th>choiceType4</th>\n",
       "      <th>choice</th>\n",
       "      <th>binaryCorrect</th>\n",
       "    </tr>\n",
       "  </thead>\n",
       "  <tbody>\n",
       "    <tr>\n",
       "      <th>3422</th>\n",
       "      <td>id_Thu Jul 06 2017 11:03:46 GMT+0100 (GMT Dayl...</td>\n",
       "      <td>female</td>\n",
       "      <td>condition_AdjNum</td>\n",
       "      <td>testTrial31_outer_2_shoe two_two shoe_----_---...</td>\n",
       "      <td>test</td>\n",
       "      <td>testTrial31</td>\n",
       "      <td>outer</td>\n",
       "      <td>2</td>\n",
       "      <td>shoe two</td>\n",
       "      <td>two shoe</td>\n",
       "      <td>...</td>\n",
       "      <td>shoe</td>\n",
       "      <td>True</td>\n",
       "      <td>True</td>\n",
       "      <td>NaN</td>\n",
       "      <td>NaN</td>\n",
       "      <td>NaN</td>\n",
       "      <td>NaN</td>\n",
       "      <td>NaN</td>\n",
       "      <td>2</td>\n",
       "      <td>1</td>\n",
       "    </tr>\n",
       "    <tr>\n",
       "      <th>6999</th>\n",
       "      <td>id_Wed Jun 21 2017 22:34:24 GMT+0700 (SE Asia ...</td>\n",
       "      <td>female</td>\n",
       "      <td>condition_NumDem</td>\n",
       "      <td>testTrial8_inner-outer_4_arrow that six_six th...</td>\n",
       "      <td>test</td>\n",
       "      <td>testTrial8</td>\n",
       "      <td>inner-outer</td>\n",
       "      <td>4</td>\n",
       "      <td>arrow that six</td>\n",
       "      <td>six that arrow</td>\n",
       "      <td>...</td>\n",
       "      <td>arrow</td>\n",
       "      <td>False</td>\n",
       "      <td>False</td>\n",
       "      <td>True</td>\n",
       "      <td>N-Outer-Inner</td>\n",
       "      <td>Inner-Outer-N</td>\n",
       "      <td>N-Inner-Outer</td>\n",
       "      <td>Outer-Inner-N</td>\n",
       "      <td>4</td>\n",
       "      <td>1</td>\n",
       "    </tr>\n",
       "    <tr>\n",
       "      <th>5394</th>\n",
       "      <td>id_Tue Jun 27 2017 13:10:35 GMT+0700 (SE Asia ...</td>\n",
       "      <td>female</td>\n",
       "      <td>condition_AdjNum</td>\n",
       "      <td>testTrial3_outer_1_six pillow_pillow six_----_...</td>\n",
       "      <td>test</td>\n",
       "      <td>testTrial3</td>\n",
       "      <td>outer</td>\n",
       "      <td>1</td>\n",
       "      <td>six pillow</td>\n",
       "      <td>pillow six</td>\n",
       "      <td>...</td>\n",
       "      <td>pillow</td>\n",
       "      <td>True</td>\n",
       "      <td>True</td>\n",
       "      <td>NaN</td>\n",
       "      <td>NaN</td>\n",
       "      <td>NaN</td>\n",
       "      <td>NaN</td>\n",
       "      <td>NaN</td>\n",
       "      <td>1</td>\n",
       "      <td>1</td>\n",
       "    </tr>\n",
       "    <tr>\n",
       "      <th>4229</th>\n",
       "      <td>id_Thu Jun 22 2017 10:44:34 GMT+0700 (SE Asia ...</td>\n",
       "      <td>male</td>\n",
       "      <td>condition_AdjDem</td>\n",
       "      <td>testTrial38_outer_1_this table_table this_----...</td>\n",
       "      <td>test</td>\n",
       "      <td>testTrial38</td>\n",
       "      <td>outer</td>\n",
       "      <td>1</td>\n",
       "      <td>this table</td>\n",
       "      <td>table this</td>\n",
       "      <td>...</td>\n",
       "      <td>table</td>\n",
       "      <td>False</td>\n",
       "      <td>True</td>\n",
       "      <td>NaN</td>\n",
       "      <td>NaN</td>\n",
       "      <td>NaN</td>\n",
       "      <td>NaN</td>\n",
       "      <td>NaN</td>\n",
       "      <td>1</td>\n",
       "      <td>1</td>\n",
       "    </tr>\n",
       "    <tr>\n",
       "      <th>6625</th>\n",
       "      <td>id_Wed Jun 21 2017 18:16:50 GMT+0700 (SE Asia ...</td>\n",
       "      <td>female</td>\n",
       "      <td>condition_AdjNum</td>\n",
       "      <td>testTrial34_inner-outer_4_blue ten duck_duck b...</td>\n",
       "      <td>test</td>\n",
       "      <td>testTrial34</td>\n",
       "      <td>inner-outer</td>\n",
       "      <td>4</td>\n",
       "      <td>blue ten duck</td>\n",
       "      <td>duck blue ten</td>\n",
       "      <td>...</td>\n",
       "      <td>duck</td>\n",
       "      <td>False</td>\n",
       "      <td>False</td>\n",
       "      <td>False</td>\n",
       "      <td>Inner-Outer-N</td>\n",
       "      <td>N-Inner-Outer</td>\n",
       "      <td>N-Outer-Inner</td>\n",
       "      <td>Outer-Inner-N</td>\n",
       "      <td>4</td>\n",
       "      <td>1</td>\n",
       "    </tr>\n",
       "    <tr>\n",
       "      <th>32</th>\n",
       "      <td>id_Fri Jul 07 2017 08:46:31 GMT+0700 (SE Asia ...</td>\n",
       "      <td>female</td>\n",
       "      <td>condition_AdjDem</td>\n",
       "      <td>testTrial1_inner-outer_3_cherry orange this_or...</td>\n",
       "      <td>test</td>\n",
       "      <td>testTrial1</td>\n",
       "      <td>inner-outer</td>\n",
       "      <td>3</td>\n",
       "      <td>cherry orange this</td>\n",
       "      <td>orange this cherry</td>\n",
       "      <td>...</td>\n",
       "      <td>cherry</td>\n",
       "      <td>True</td>\n",
       "      <td>False</td>\n",
       "      <td>True</td>\n",
       "      <td>N-Inner-Outer</td>\n",
       "      <td>Inner-Outer-N</td>\n",
       "      <td>Outer-Inner-N</td>\n",
       "      <td>N-Outer-Inner</td>\n",
       "      <td>3</td>\n",
       "      <td>1</td>\n",
       "    </tr>\n",
       "    <tr>\n",
       "      <th>4539</th>\n",
       "      <td>id_Thu Jun 29 2017 20:25:50 GMT+0700 (SE Asia ...</td>\n",
       "      <td>female</td>\n",
       "      <td>condition_AdjNum</td>\n",
       "      <td>testTrial28_inner-outer_1_eight spotted pillow...</td>\n",
       "      <td>test</td>\n",
       "      <td>testTrial28</td>\n",
       "      <td>inner-outer</td>\n",
       "      <td>1</td>\n",
       "      <td>eight spotted pillow</td>\n",
       "      <td>pillow eight spotted</td>\n",
       "      <td>...</td>\n",
       "      <td>pillow</td>\n",
       "      <td>True</td>\n",
       "      <td>True</td>\n",
       "      <td>True</td>\n",
       "      <td>Outer-Inner-N</td>\n",
       "      <td>N-Outer-Inner</td>\n",
       "      <td>N-Inner-Outer</td>\n",
       "      <td>Inner-Outer-N</td>\n",
       "      <td>1</td>\n",
       "      <td>1</td>\n",
       "    </tr>\n",
       "    <tr>\n",
       "      <th>1250</th>\n",
       "      <td>id_Mon Jul 10 2017 15:38:08 GMT+0700 (SE Asia ...</td>\n",
       "      <td>female</td>\n",
       "      <td>condition_NumDem</td>\n",
       "      <td>testTrial19_outer_2_shirt this_this shirt_----...</td>\n",
       "      <td>test</td>\n",
       "      <td>testTrial19</td>\n",
       "      <td>outer</td>\n",
       "      <td>2</td>\n",
       "      <td>shirt this</td>\n",
       "      <td>this shirt</td>\n",
       "      <td>...</td>\n",
       "      <td>shirt</td>\n",
       "      <td>True</td>\n",
       "      <td>True</td>\n",
       "      <td>NaN</td>\n",
       "      <td>NaN</td>\n",
       "      <td>NaN</td>\n",
       "      <td>NaN</td>\n",
       "      <td>NaN</td>\n",
       "      <td>2</td>\n",
       "      <td>1</td>\n",
       "    </tr>\n",
       "    <tr>\n",
       "      <th>2526</th>\n",
       "      <td>id_Sat Jun 24 2017 21:36:20 GMT+0700 (WIB) 0160</td>\n",
       "      <td>male</td>\n",
       "      <td>condition_AdjDem</td>\n",
       "      <td>testTrial15_outer_1_that bottle_bottle that_--...</td>\n",
       "      <td>test</td>\n",
       "      <td>testTrial15</td>\n",
       "      <td>outer</td>\n",
       "      <td>1</td>\n",
       "      <td>that bottle</td>\n",
       "      <td>bottle that</td>\n",
       "      <td>...</td>\n",
       "      <td>bottle</td>\n",
       "      <td>False</td>\n",
       "      <td>True</td>\n",
       "      <td>NaN</td>\n",
       "      <td>NaN</td>\n",
       "      <td>NaN</td>\n",
       "      <td>NaN</td>\n",
       "      <td>NaN</td>\n",
       "      <td>1</td>\n",
       "      <td>1</td>\n",
       "    </tr>\n",
       "    <tr>\n",
       "      <th>5171</th>\n",
       "      <td>id_Tue Jul 11 2017 22:11:31 GMT+0700 (WIB)</td>\n",
       "      <td>female</td>\n",
       "      <td>condition_AdjNum</td>\n",
       "      <td>testTrial20_outer_2_leaf nine_nine leaf_----_-...</td>\n",
       "      <td>test</td>\n",
       "      <td>testTrial20</td>\n",
       "      <td>outer</td>\n",
       "      <td>2</td>\n",
       "      <td>leaf nine</td>\n",
       "      <td>nine leaf</td>\n",
       "      <td>...</td>\n",
       "      <td>leaf</td>\n",
       "      <td>True</td>\n",
       "      <td>True</td>\n",
       "      <td>NaN</td>\n",
       "      <td>NaN</td>\n",
       "      <td>NaN</td>\n",
       "      <td>NaN</td>\n",
       "      <td>NaN</td>\n",
       "      <td>2</td>\n",
       "      <td>1</td>\n",
       "    </tr>\n",
       "  </tbody>\n",
       "</table>\n",
       "<p>10 rows × 23 columns</p>\n",
       "</div>"
      ],
      "text/plain": [
       "                                                     ID     sex  \\\n",
       "3422  id_Thu Jul 06 2017 11:03:46 GMT+0100 (GMT Dayl...  female   \n",
       "6999  id_Wed Jun 21 2017 22:34:24 GMT+0700 (SE Asia ...  female   \n",
       "5394  id_Tue Jun 27 2017 13:10:35 GMT+0700 (SE Asia ...  female   \n",
       "4229  id_Thu Jun 22 2017 10:44:34 GMT+0700 (SE Asia ...    male   \n",
       "6625  id_Wed Jun 21 2017 18:16:50 GMT+0700 (SE Asia ...  female   \n",
       "32    id_Fri Jul 07 2017 08:46:31 GMT+0700 (SE Asia ...  female   \n",
       "4539  id_Thu Jun 29 2017 20:25:50 GMT+0700 (SE Asia ...  female   \n",
       "1250  id_Mon Jul 10 2017 15:38:08 GMT+0700 (SE Asia ...  female   \n",
       "2526    id_Sat Jun 24 2017 21:36:20 GMT+0700 (WIB) 0160    male   \n",
       "5171         id_Tue Jul 11 2017 22:11:31 GMT+0700 (WIB)  female   \n",
       "\n",
       "             condition                                             trials  \\\n",
       "3422  condition_AdjNum  testTrial31_outer_2_shoe two_two shoe_----_---...   \n",
       "6999  condition_NumDem  testTrial8_inner-outer_4_arrow that six_six th...   \n",
       "5394  condition_AdjNum  testTrial3_outer_1_six pillow_pillow six_----_...   \n",
       "4229  condition_AdjDem  testTrial38_outer_1_this table_table this_----...   \n",
       "6625  condition_AdjNum  testTrial34_inner-outer_4_blue ten duck_duck b...   \n",
       "32    condition_AdjDem  testTrial1_inner-outer_3_cherry orange this_or...   \n",
       "4539  condition_AdjNum  testTrial28_inner-outer_1_eight spotted pillow...   \n",
       "1250  condition_NumDem  testTrial19_outer_2_shirt this_this shirt_----...   \n",
       "2526  condition_AdjDem  testTrial15_outer_1_that bottle_bottle that_--...   \n",
       "5171  condition_AdjNum  testTrial20_outer_2_leaf nine_nine leaf_----_-...   \n",
       "\n",
       "     phase        trial         type  correctChoice               choice1  \\\n",
       "3422  test  testTrial31        outer              2              shoe two   \n",
       "6999  test   testTrial8  inner-outer              4        arrow that six   \n",
       "5394  test   testTrial3        outer              1            six pillow   \n",
       "4229  test  testTrial38        outer              1            this table   \n",
       "6625  test  testTrial34  inner-outer              4         blue ten duck   \n",
       "32    test   testTrial1  inner-outer              3    cherry orange this   \n",
       "4539  test  testTrial28  inner-outer              1  eight spotted pillow   \n",
       "1250  test  testTrial19        outer              2            shirt this   \n",
       "2526  test  testTrial15        outer              1           that bottle   \n",
       "5171  test  testTrial20        outer              2             leaf nine   \n",
       "\n",
       "                   choice2      ...          mod oldNoun oldMod1 oldMod2  \\\n",
       "3422              two shoe      ...         shoe    True    True     NaN   \n",
       "6999        six that arrow      ...        arrow   False   False    True   \n",
       "5394            pillow six      ...       pillow    True    True     NaN   \n",
       "4229            table this      ...        table   False    True     NaN   \n",
       "6625         duck blue ten      ...         duck   False   False   False   \n",
       "32      orange this cherry      ...       cherry    True   False    True   \n",
       "4539  pillow eight spotted      ...       pillow    True    True    True   \n",
       "1250            this shirt      ...        shirt    True    True     NaN   \n",
       "2526           bottle that      ...       bottle   False    True     NaN   \n",
       "5171             nine leaf      ...         leaf    True    True     NaN   \n",
       "\n",
       "        choiceType1    choiceType2    choiceType3    choiceType4 choice  \\\n",
       "3422            NaN            NaN            NaN            NaN      2   \n",
       "6999  N-Outer-Inner  Inner-Outer-N  N-Inner-Outer  Outer-Inner-N      4   \n",
       "5394            NaN            NaN            NaN            NaN      1   \n",
       "4229            NaN            NaN            NaN            NaN      1   \n",
       "6625  Inner-Outer-N  N-Inner-Outer  N-Outer-Inner  Outer-Inner-N      4   \n",
       "32    N-Inner-Outer  Inner-Outer-N  Outer-Inner-N  N-Outer-Inner      3   \n",
       "4539  Outer-Inner-N  N-Outer-Inner  N-Inner-Outer  Inner-Outer-N      1   \n",
       "1250            NaN            NaN            NaN            NaN      2   \n",
       "2526            NaN            NaN            NaN            NaN      1   \n",
       "5171            NaN            NaN            NaN            NaN      2   \n",
       "\n",
       "     binaryCorrect  \n",
       "3422             1  \n",
       "6999             1  \n",
       "5394             1  \n",
       "4229             1  \n",
       "6625             1  \n",
       "32               1  \n",
       "4539             1  \n",
       "1250             1  \n",
       "2526             1  \n",
       "5171             1  \n",
       "\n",
       "[10 rows x 23 columns]"
      ]
     },
     "execution_count": 2,
     "metadata": {},
     "output_type": "execute_result"
    }
   ],
   "source": [
    "df.sample(10)"
   ]
  },
  {
   "cell_type": "markdown",
   "metadata": {},
   "source": [
    "Select data from the test phase only."
   ]
  },
  {
   "cell_type": "code",
   "execution_count": 3,
   "metadata": {},
   "outputs": [],
   "source": [
    "df = df[df.phase=='test']"
   ]
  },
  {
   "cell_type": "markdown",
   "metadata": {},
   "source": [
    "Check how many participants we have in each condition:"
   ]
  },
  {
   "cell_type": "code",
   "execution_count": 4,
   "metadata": {},
   "outputs": [
    {
     "data": {
      "text/plain": [
       "condition\n",
       "condition_AdjDem    28\n",
       "condition_AdjNum    31\n",
       "condition_NumDem    32\n",
       "Name: ID, dtype: int64"
      ]
     },
     "execution_count": 4,
     "metadata": {},
     "output_type": "execute_result"
    }
   ],
   "source": [
    "df.groupby('condition').ID.nunique()"
   ]
  },
  {
   "cell_type": "markdown",
   "metadata": {},
   "source": [
    "Check by participant accuracy on single-modifier trials.  The critical column is `post` denoting whether or not (1 or 0) a response was postnominal."
   ]
  },
  {
   "cell_type": "code",
   "execution_count": 5,
   "metadata": {},
   "outputs": [
    {
     "data": {
      "text/plain": [
       "ID                                                                 condition       \n",
       "id_Fri Jul 07 2017 08:46:31 GMT+0700 (SE Asia Standard Time) 9699  condition_AdjDem    1.000000\n",
       "id_Fri Jul 07 2017 21:56:52 GMT+0700 (SE Asia Standard Time) 2225  condition_NumDem    1.000000\n",
       "id_Fri Jul 14 2017 17:18:25 GMT+0700 (SE Asia Standard Time)       condition_AdjNum    0.833333\n",
       "id_Fri Jul 14 2017 21:14:41 GMT+0700 (WIB)                         condition_NumDem    1.000000\n",
       "id_Fri Jun 23 2017 00:01:12 GMT+0700 (SE Asia Standard Time) 6080  condition_AdjNum    0.000000\n",
       "id_Fri Jun 23 2017 11:38:57 GMT+0700 (SE Asia Standard Time) 8119  condition_AdjNum    0.166667\n",
       "id_Fri Jun 23 2017 17:45:36 GMT+0700 (SE Asia Standard Time) 5414  condition_NumDem    1.000000\n",
       "id_Fri Jun 23 2017 18:03:02 GMT+0700 (SE Asia Standard Time) 7033  condition_AdjDem    0.033333\n",
       "id_Fri Jun 23 2017 18:11:44 GMT+0700 (SE Asia Standard Time) 4668  condition_AdjDem    1.000000\n",
       "id_Fri Jun 30 2017 17:59:21 GMT+0700 (SE Asia Standard Time) 4692  condition_AdjNum    0.033333\n",
       "id_Fri Jun 30 2017 20:09:25 GMT+0700 (SE Asia Standard Time) 3967  condition_NumDem    0.366667\n",
       "id_Mon Jul 03 2017 10:24:32 GMT+0700 (SE Asia Standard Time) 8343  condition_AdjDem    1.000000\n",
       "id_Mon Jul 03 2017 11:43:20 GMT+0700 (SE Asia Standard Time) 3492  condition_AdjDem    0.033333\n",
       "id_Mon Jul 03 2017 17:28:50 GMT+0700 (SE Asia Standard Time) 2987  condition_NumDem    0.900000\n",
       "id_Mon Jul 10 2017 13:40:10 GMT+0700 (SE Asia Standard Time)       condition_AdjNum    0.966667\n",
       "id_Mon Jul 10 2017 15:38:08 GMT+0700 (SE Asia Standard Time)       condition_NumDem    1.000000\n",
       "id_Mon Jul 10 2017 16:08:44 GMT+0700 (WIB)                         condition_NumDem    0.933333\n",
       "id_Mon Jun 26 2017 22:31:17 GMT+0700 (SE Asia Standard Time) 7870  condition_AdjNum    0.266667\n",
       "id_Sat Jul 01 2017 05:19:23 GMT+0700 (SE Asia Standard Time) 2244  condition_AdjNum    0.166667\n",
       "id_Sat Jul 01 2017 07:34:43 GMT+0700 (SE Asia Standard Time) 9666  condition_NumDem    1.000000\n",
       "id_Sat Jul 01 2017 10:39:07 GMT+0700 (SE Asia Standard Time) 0896  condition_AdjDem    0.966667\n",
       "id_Sat Jul 01 2017 16:31:15 GMT+0700 (SE Asia Standard Time) 2095  condition_AdjNum    1.000000\n",
       "id_Sat Jul 01 2017 20:00:38 GMT+0700 (SE Asia Standard Time) 4479  condition_AdjDem    1.000000\n",
       "id_Sat Jul 08 2017 12:17:06 GMT+0700 (SE Asia Standard Time) 0051  condition_NumDem    0.966667\n",
       "id_Sat Jul 08 2017 12:48:17 GMT+0700 (SE Asia Standard Time) 6878  condition_AdjNum    0.300000\n",
       "id_Sat Jul 08 2017 15:32:15 GMT+0700 (SE Asia Standard Time) 2372  condition_AdjDem    1.000000\n",
       "id_Sat Jul 15 2017 20:15:44 GMT+0700 (SE Asia Standard Time)       condition_NumDem    1.000000\n",
       "id_Sat Jul 15 2017 22:36:02 GMT+0700 (SE Asia Standard Time)       condition_AdjNum    0.933333\n",
       "id_Sat Jun 24 2017 08:19:30 GMT+0700 (SE Asia Standard Time) 3811  condition_AdjDem    1.000000\n",
       "id_Sat Jun 24 2017 13:07:42 GMT+0700 (SE Asia Standard Time) 4959  condition_AdjDem    1.000000\n",
       "                                                                                         ...   \n",
       "id_Tue Jul 11 2017 07:17:34 GMT+0700 (SE Asia Standard Time)       condition_AdjDem    0.333333\n",
       "id_Tue Jul 11 2017 21:14:36 GMT+0700 (SE Asia Standard Time)       condition_NumDem    1.000000\n",
       "id_Tue Jul 11 2017 21:16:23 GMT+0700 (SE Asia Standard Time)       condition_NumDem    1.000000\n",
       "id_Tue Jul 11 2017 22:11:31 GMT+0700 (WIB)                         condition_AdjNum    1.000000\n",
       "id_Tue Jun 27 2017 10:57:01 GMT+0700 (SE Asia Standard Time) 3627  condition_NumDem    1.000000\n",
       "id_Tue Jun 27 2017 12:44:41 GMT+0100 (GMT Daylight Time) 8457      condition_NumDem    0.666667\n",
       "id_Tue Jun 27 2017 13:10:35 GMT+0700 (SE Asia Standard Time) 8407  condition_AdjNum    1.000000\n",
       "id_Tue Jun 27 2017 14:30:41 GMT+0700 (WIB) 8407                    condition_AdjNum    1.000000\n",
       "id_Tue Jun 27 2017 17:05:19 GMT+0700 (SE Asia Standard Time) 5253  condition_NumDem    0.900000\n",
       "id_Wed Jul 05 2017 14:37:21 GMT+0700 (SE Asia Standard Time) 8627  condition_NumDem    1.000000\n",
       "id_Wed Jul 12 2017 09:13:57 GMT+0700 (SE Asia Standard Time)       condition_AdjNum    0.933333\n",
       "id_Wed Jul 12 2017 19:25:30 GMT+0700 (SE Asia Standard Time)       condition_NumDem    0.000000\n",
       "id_Wed Jul 12 2017 19:55:51 GMT+0700 (SE Asia Standard Time)       condition_AdjNum    1.000000\n",
       "id_Wed Jul 12 2017 21:06:24 GMT+0700 (SE Asia Standard Time)       condition_AdjNum    1.000000\n",
       "id_Wed Jul 12 2017 21:08:06 GMT+0700 (SE Asia Standard Time)       condition_AdjNum    0.766667\n",
       "id_Wed Jul 12 2017 22:00:01 GMT+0700 (SE Asia Standard Time)       condition_NumDem    0.000000\n",
       "id_Wed Jul 12 2017 22:38:37 GMT+0700 (SE Asia Standard Time)       condition_AdjNum    1.000000\n",
       "id_Wed Jul 12 2017 23:13:19 GMT+0700 (WIB)                         condition_NumDem    0.966667\n",
       "id_Wed Jul 12 2017 23:14:11 GMT+0700 (SE Asia Standard Time)       condition_NumDem    1.000000\n",
       "id_Wed Jul 12 2017 23:20:05 GMT+0700 (WIB)                         condition_AdjDem    0.900000\n",
       "id_Wed Jul 12 2017 23:26:04 GMT+0700 (SE Asia Standard Time)       condition_AdjNum    0.500000\n",
       "id_Wed Jun 21 2017 18:16:50 GMT+0700 (SE Asia Standard Time) 9314  condition_AdjNum    0.966667\n",
       "id_Wed Jun 21 2017 18:37:24 GMT+0700 (SE Asia Standard Time) 7625  condition_AdjDem    0.900000\n",
       "id_Wed Jun 21 2017 19:28:50 GMT+0700 (SE Asia Standard Time) 2062  condition_AdjNum    1.000000\n",
       "id_Wed Jun 21 2017 19:31:11 GMT+0700 (SE Asia Standard Time) 1906  condition_AdjDem    1.000000\n",
       "id_Wed Jun 21 2017 21:50:15 GMT+0700 (SE Asia Standard Time) 2206  condition_NumDem    0.000000\n",
       "id_Wed Jun 21 2017 22:34:24 GMT+0700 (SE Asia Standard Time) 7096  condition_NumDem    1.000000\n",
       "id_Wed Jun 28 2017 11:47:46 GMT+0700 (SE Asia Standard Time) 8562  condition_AdjNum    0.966667\n",
       "id_Wed Jun 28 2017 20:17:41 GMT+0700 (SE Asia Standard Time) 1245  condition_AdjDem    0.833333\n",
       "id_Wed Jun 28 2017 20:17:57 GMT+0700 (SE Asia Standard Time) 3838  condition_AdjDem    1.000000\n",
       "Name: binaryCorrect, Length: 91, dtype: float64"
      ]
     },
     "execution_count": 5,
     "metadata": {},
     "output_type": "execute_result"
    }
   ],
   "source": [
    "df[df.type=='inner-outer'].groupby(['ID', 'condition']).binaryCorrect.mean()"
   ]
  },
  {
   "cell_type": "markdown",
   "metadata": {},
   "source": [
    "Plot histogram of single-modifier trial accuracy."
   ]
  },
  {
   "cell_type": "code",
   "execution_count": 6,
   "metadata": {},
   "outputs": [
    {
     "data": {
      "text/plain": [
       "<matplotlib.axes._subplots.AxesSubplot at 0x1a0b4124d0>"
      ]
     },
     "execution_count": 6,
     "metadata": {},
     "output_type": "execute_result"
    },
    {
     "data": {
      "image/png": "[encoded data removed]",
      "text/plain": [
       "<matplotlib.figure.Figure at 0x1a0b3e2f50>"
      ]
     },
     "metadata": {},
     "output_type": "display_data"
    }
   ],
   "source": [
    "df[df.type=='inner-outer'].groupby(['ID', 'condition']).binaryCorrect.mean().hist()"
   ]
  },
  {
   "cell_type": "code",
   "execution_count": 7,
   "metadata": {},
   "outputs": [],
   "source": [
    "aggregators = {'binaryCorrect':mean}\n",
    "\n",
    "gp = df[df.type=='inner-outer'].groupby(['ID', 'condition'], as_index=False).agg(aggregators)"
   ]
  },
  {
   "cell_type": "code",
   "execution_count": 8,
   "metadata": {},
   "outputs": [
    {
     "data": {
      "text/plain": [
       "[(-0.05, 1.05)]"
      ]
     },
     "execution_count": 8,
     "metadata": {},
     "output_type": "execute_result"
    },
    {
     "data": {
      "image/png": "[encoded data removed]",
      "text/plain": [
       "<matplotlib.figure.Figure at 0x1a0bdbb550>"
      ]
     },
     "metadata": {},
     "output_type": "display_data"
    }
   ],
   "source": [
    "ax = sns.swarmplot(x='condition', y='binaryCorrect', data=gp)\n",
    "ax.set(ylim=(-0.05,1.05))"
   ]
  },
  {
   "cell_type": "markdown",
   "metadata": {},
   "source": [
    "Prepare to do R modelling."
   ]
  },
  {
   "cell_type": "code",
   "execution_count": 9,
   "metadata": {},
   "outputs": [],
   "source": [
    "%load_ext rpy2.ipython"
   ]
  },
  {
   "cell_type": "markdown",
   "metadata": {},
   "source": [
    "Load in data and create subsets on which each model will be run."
   ]
  },
  {
   "cell_type": "code",
   "execution_count": 11,
   "metadata": {},
   "outputs": [],
   "source": [
    "%%R\n",
    "library('lme4')\n",
    "\n",
    "d <- read.csv('../data/U20Indonesian_TestData.csv')\n",
    "test <- subset(d, d$type=='inner-outer') # only select two modifier trials\n",
    "\n",
    "testAdjDem <- subset(test, test$condition==\"condition_AdjDem\")\n",
    "testAdjNum <- subset(test, test$condition==\"condition_AdjNum\")\n",
    "testNumDem <- subset(test, test$condition==\"condition_NumDem\")"
   ]
  },
  {
   "cell_type": "markdown",
   "metadata": {},
   "source": [
    "Run models for the adj-dem condition, and test whether intercept is significantly different from chance level."
   ]
  },
  {
   "cell_type": "code",
   "execution_count": 12,
   "metadata": {},
   "outputs": [
    {
     "data": {
      "text/plain": [
       "Data: testAdjDem\n",
       "Models:\n",
       "m0AdjDem: binaryCorrect ~ 0 + (1 | ID) + (1 | mod)\n",
       "m1AdjDem: binaryCorrect ~ 1 + (1 | ID) + (1 | mod)\n",
       "         Df    AIC    BIC  logLik deviance  Chisq Chi Df Pr(>Chisq)    \n",
       "m0AdjDem  2 424.41 433.87 -210.20   420.41                             \n",
       "m1AdjDem  3 409.98 424.18 -201.99   403.98 16.428      1  5.052e-05 ***\n",
       "---\n",
       "Signif. codes:  0 ‘***’ 0.001 ‘**’ 0.01 ‘*’ 0.05 ‘.’ 0.1 ‘ ’ 1\n"
      ]
     },
     "metadata": {},
     "output_type": "display_data"
    }
   ],
   "source": [
    "%%R\n",
    "\n",
    "m1AdjDem <- glmer(binaryCorrect ~ 1 + (1|ID) + (1|mod), family=binomial, data=testAdjDem)\n",
    "m0AdjDem <- glmer(binaryCorrect ~ 0 + (1|ID) + (1|mod), family=binomial, data=testAdjDem)\n",
    "\n",
    "anova(m1AdjDem, m0AdjDem)"
   ]
  },
  {
   "cell_type": "markdown",
   "metadata": {
    "collapsed": true
   },
   "source": [
    "Run models for the adj-num condition, and test whether intercept is significantly different from chance level."
   ]
  },
  {
   "cell_type": "code",
   "execution_count": 14,
   "metadata": {},
   "outputs": [
    {
     "data": {
      "text/plain": [
       "Data: testAdjNum\n",
       "Models:\n",
       "m0AdjNum: binaryCorrect ~ 0 + (1 | ID) + (1 | mod)\n",
       "m1AdjNum: binaryCorrect ~ 1 + (1 | ID) + (1 | mod)\n",
       "         Df    AIC    BIC  logLik deviance  Chisq Chi Df Pr(>Chisq)    \n",
       "m0AdjNum  2 503.93 513.60 -249.96   499.93                             \n",
       "m1AdjNum  3 494.43 508.94 -244.22   488.43 11.493      1  0.0006987 ***\n",
       "---\n",
       "Signif. codes:  0 ‘***’ 0.001 ‘**’ 0.01 ‘*’ 0.05 ‘.’ 0.1 ‘ ’ 1\n"
      ]
     },
     "metadata": {},
     "output_type": "display_data"
    }
   ],
   "source": [
    "%%R\n",
    "\n",
    "m1AdjNum <- glmer(binaryCorrect ~ 1 + (1|ID) + (1|mod), family=binomial, data=testAdjNum)\n",
    "m0AdjNum <- glmer(binaryCorrect ~ 0 + (1|ID) + (1|mod), family=binomial, data=testAdjNum)\n",
    "\n",
    "anova(m1AdjNum, m0AdjNum)"
   ]
  },
  {
   "cell_type": "markdown",
   "metadata": {},
   "source": [
    "Run models for the num-dem condition, and test whether intercept is significantly different from chance level."
   ]
  },
  {
   "cell_type": "code",
   "execution_count": 15,
   "metadata": {},
   "outputs": [
    {
     "data": {
      "text/plain": [
       "Data: testNumDem\n",
       "Models:\n",
       "m0NumDem: binaryCorrect ~ 0 + (1 | ID) + (1 | mod)\n",
       "m1NumDem: binaryCorrect ~ 1 + (1 | ID) + (1 | mod)\n",
       "         Df    AIC    BIC  logLik deviance  Chisq Chi Df Pr(>Chisq)    \n",
       "m0NumDem  2 415.25 424.98 -205.62   411.25                             \n",
       "m1NumDem  3 402.20 416.80 -198.10   396.20 15.053      1  0.0001045 ***\n",
       "---\n",
       "Signif. codes:  0 ‘***’ 0.001 ‘**’ 0.01 ‘*’ 0.05 ‘.’ 0.1 ‘ ’ 1\n"
      ]
     },
     "metadata": {},
     "output_type": "display_data"
    }
   ],
   "source": [
    "%%R\n",
    "\n",
    "m1NumDem <- glmer(binaryCorrect ~ 1 + (1|ID) + (1|mod), family=binomial, data=testNumDem)\n",
    "m0NumDem <- glmer(binaryCorrect ~ 0 + (1|ID) + (1|mod), family=binomial, data=testNumDem)\n",
    "\n",
    "anova(m1NumDem, m0NumDem)"
   ]
  },
  {
   "cell_type": "code",
   "execution_count": null,
   "metadata": {},
   "outputs": [],
   "source": []
  }
 ],
 "metadata": {
  "kernelspec": {
   "display_name": "Python 2",
   "language": "python",
   "name": "python2"
  },
  "language_info": {
   "codemirror_mode": {
    "name": "ipython",
    "version": 2
   },
   "file_extension": ".py",
   "mimetype": "text/x-python",
   "name": "python",
   "nbconvert_exporter": "python",
   "pygments_lexer": "ipython2",
   "version": "2.7.14"
  }
 },
 "nbformat": 4,
 "nbformat_minor": 1
}
