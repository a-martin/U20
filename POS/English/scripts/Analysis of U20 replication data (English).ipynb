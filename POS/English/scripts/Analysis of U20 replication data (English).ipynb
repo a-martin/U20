{
 "cells": [
  {
   "cell_type": "markdown",
   "metadata": {},
   "source": [
    "# Analysis of U20 lab-based replication"
   ]
  },
  {
   "cell_type": "markdown",
   "metadata": {},
   "source": [
    "Load libraries and data in."
   ]
  },
  {
   "cell_type": "code",
   "execution_count": 41,
   "metadata": {},
   "outputs": [],
   "source": [
    "%matplotlib inline\n",
    "\n",
    "import pandas as pd\n",
    "import seaborn as sns\n",
    "from numpy import * \n",
    "import os\n",
    "\n",
    "os.chdir('/Users/Alexander/Documents/Science/U20/POS/English/scripts/')\n",
    "\n",
    "%run clean-data.py # concatenates and cleans data into DataFrame called df\n",
    "# df = pd.read_csv('../data/test/ENGtest.csv')"
   ]
  },
  {
   "cell_type": "markdown",
   "metadata": {},
   "source": [
    "Check that data were loaded correctly."
   ]
  },
  {
   "cell_type": "code",
   "execution_count": 42,
   "metadata": {},
   "outputs": [
    {
     "data": {
      "text/html": [
       "<div>\n",
       "<style scoped>\n",
       "    .dataframe tbody tr th:only-of-type {\n",
       "        vertical-align: middle;\n",
       "    }\n",
       "\n",
       "    .dataframe tbody tr th {\n",
       "        vertical-align: top;\n",
       "    }\n",
       "\n",
       "    .dataframe thead th {\n",
       "        text-align: right;\n",
       "    }\n",
       "</style>\n",
       "<table border=\"1\" class=\"dataframe\">\n",
       "  <thead>\n",
       "    <tr style=\"text-align: right;\">\n",
       "      <th></th>\n",
       "      <th>age</th>\n",
       "      <th>buttonA</th>\n",
       "      <th>buttonB</th>\n",
       "      <th>buttonC</th>\n",
       "      <th>buttonD</th>\n",
       "      <th>cond</th>\n",
       "      <th>date</th>\n",
       "      <th>gender</th>\n",
       "      <th>iso</th>\n",
       "      <th>modInner</th>\n",
       "      <th>modOuter</th>\n",
       "      <th>nbMods</th>\n",
       "      <th>noun</th>\n",
       "      <th>nounSing</th>\n",
       "      <th>post</th>\n",
       "      <th>response</th>\n",
       "      <th>responseButton</th>\n",
       "      <th>suj</th>\n",
       "      <th>trial</th>\n",
       "    </tr>\n",
       "  </thead>\n",
       "  <tbody>\n",
       "    <tr>\n",
       "      <th>9471</th>\n",
       "      <td>22.0</td>\n",
       "      <td>pitchers ten dirty</td>\n",
       "      <td>dirty ten pitchers</td>\n",
       "      <td>pitchers dirty ten</td>\n",
       "      <td>ten dirty pitchers</td>\n",
       "      <td>num-adj</td>\n",
       "      <td>2017-11-24 17:03</td>\n",
       "      <td>F</td>\n",
       "      <td>1.0</td>\n",
       "      <td>dirty</td>\n",
       "      <td>ten</td>\n",
       "      <td>2</td>\n",
       "      <td>pitchers</td>\n",
       "      <td>pitcher</td>\n",
       "      <td>NaN</td>\n",
       "      <td>pitchers dirty ten</td>\n",
       "      <td>2.0</td>\n",
       "      <td>ENG4014</td>\n",
       "      <td>21.0</td>\n",
       "    </tr>\n",
       "    <tr>\n",
       "      <th>672</th>\n",
       "      <td>18.0</td>\n",
       "      <td>five these ribbons</td>\n",
       "      <td>these five ribbons</td>\n",
       "      <td>ribbons five these</td>\n",
       "      <td>ribbons these five</td>\n",
       "      <td>dem-num</td>\n",
       "      <td>2017-11-14 14:13</td>\n",
       "      <td>F</td>\n",
       "      <td>1.0</td>\n",
       "      <td>five</td>\n",
       "      <td>these</td>\n",
       "      <td>2</td>\n",
       "      <td>ribbons</td>\n",
       "      <td>ribbon</td>\n",
       "      <td>NaN</td>\n",
       "      <td>ribbons five these</td>\n",
       "      <td>2.0</td>\n",
       "      <td>ENG2001</td>\n",
       "      <td>22.0</td>\n",
       "    </tr>\n",
       "    <tr>\n",
       "      <th>3903</th>\n",
       "      <td>23.0</td>\n",
       "      <td>boxes five</td>\n",
       "      <td>five boxes</td>\n",
       "      <td>NaN</td>\n",
       "      <td>NaN</td>\n",
       "      <td>dem-num</td>\n",
       "      <td>2017-11-16 16:22</td>\n",
       "      <td>F</td>\n",
       "      <td>NaN</td>\n",
       "      <td>NaN</td>\n",
       "      <td>five</td>\n",
       "      <td>1</td>\n",
       "      <td>boxes</td>\n",
       "      <td>box</td>\n",
       "      <td>1.0</td>\n",
       "      <td>boxes five</td>\n",
       "      <td>0.0</td>\n",
       "      <td>ENG4007</td>\n",
       "      <td>3.0</td>\n",
       "    </tr>\n",
       "    <tr>\n",
       "      <th>14271</th>\n",
       "      <td>20.0</td>\n",
       "      <td>stone three leaves</td>\n",
       "      <td>three stone leaves</td>\n",
       "      <td>leaves stone three</td>\n",
       "      <td>leaves three stone</td>\n",
       "      <td>num-adj</td>\n",
       "      <td>2017-11-16 17:06</td>\n",
       "      <td>M</td>\n",
       "      <td>1.0</td>\n",
       "      <td>stone</td>\n",
       "      <td>three</td>\n",
       "      <td>2</td>\n",
       "      <td>leaves</td>\n",
       "      <td>leaf</td>\n",
       "      <td>NaN</td>\n",
       "      <td>leaves stone three</td>\n",
       "      <td>2.0</td>\n",
       "      <td>ENG4008</td>\n",
       "      <td>21.0</td>\n",
       "    </tr>\n",
       "    <tr>\n",
       "      <th>4926</th>\n",
       "      <td>21.0</td>\n",
       "      <td>purple dart</td>\n",
       "      <td>dart purple</td>\n",
       "      <td>NaN</td>\n",
       "      <td>NaN</td>\n",
       "      <td>dem-adj</td>\n",
       "      <td>2018-01-25 12:19</td>\n",
       "      <td>F</td>\n",
       "      <td>NaN</td>\n",
       "      <td>NaN</td>\n",
       "      <td>purple</td>\n",
       "      <td>1</td>\n",
       "      <td>dart</td>\n",
       "      <td>dart</td>\n",
       "      <td>1.0</td>\n",
       "      <td>dart purple</td>\n",
       "      <td>1.0</td>\n",
       "      <td>ENG4027</td>\n",
       "      <td>26.0</td>\n",
       "    </tr>\n",
       "    <tr>\n",
       "      <th>6265</th>\n",
       "      <td>22.0</td>\n",
       "      <td>four those spatulas</td>\n",
       "      <td>spatulas four those</td>\n",
       "      <td>spatulas those four</td>\n",
       "      <td>those four spatulas</td>\n",
       "      <td>dem-num</td>\n",
       "      <td>2017-11-23 14:55</td>\n",
       "      <td>F</td>\n",
       "      <td>0.0</td>\n",
       "      <td>four</td>\n",
       "      <td>those</td>\n",
       "      <td>2</td>\n",
       "      <td>spatulas</td>\n",
       "      <td>spatula</td>\n",
       "      <td>NaN</td>\n",
       "      <td>spatulas those four</td>\n",
       "      <td>2.0</td>\n",
       "      <td>ENG2007</td>\n",
       "      <td>15.0</td>\n",
       "    </tr>\n",
       "    <tr>\n",
       "      <th>17323</th>\n",
       "      <td>18.0</td>\n",
       "      <td>two chairs</td>\n",
       "      <td>chairs two</td>\n",
       "      <td>NaN</td>\n",
       "      <td>NaN</td>\n",
       "      <td>num-adj</td>\n",
       "      <td>2017-11-16 14:58</td>\n",
       "      <td>M</td>\n",
       "      <td>NaN</td>\n",
       "      <td>NaN</td>\n",
       "      <td>two</td>\n",
       "      <td>1</td>\n",
       "      <td>chairs</td>\n",
       "      <td>chair</td>\n",
       "      <td>1.0</td>\n",
       "      <td>chairs two</td>\n",
       "      <td>1.0</td>\n",
       "      <td>ENG1002</td>\n",
       "      <td>23.0</td>\n",
       "    </tr>\n",
       "    <tr>\n",
       "      <th>7140</th>\n",
       "      <td>18.0</td>\n",
       "      <td>vases those</td>\n",
       "      <td>those vases</td>\n",
       "      <td>NaN</td>\n",
       "      <td>NaN</td>\n",
       "      <td>dem-num</td>\n",
       "      <td>2017-11-14 14:04</td>\n",
       "      <td>F</td>\n",
       "      <td>NaN</td>\n",
       "      <td>NaN</td>\n",
       "      <td>those</td>\n",
       "      <td>1</td>\n",
       "      <td>vases</td>\n",
       "      <td>vase</td>\n",
       "      <td>1.0</td>\n",
       "      <td>vases those</td>\n",
       "      <td>0.0</td>\n",
       "      <td>ENG3001</td>\n",
       "      <td>40.0</td>\n",
       "    </tr>\n",
       "    <tr>\n",
       "      <th>9554</th>\n",
       "      <td>19.0</td>\n",
       "      <td>handbags those six</td>\n",
       "      <td>handbags six those</td>\n",
       "      <td>those six handbags</td>\n",
       "      <td>six those handbags</td>\n",
       "      <td>dem-num</td>\n",
       "      <td>2017-12-05 14:09</td>\n",
       "      <td>F</td>\n",
       "      <td>1.0</td>\n",
       "      <td>six</td>\n",
       "      <td>those</td>\n",
       "      <td>2</td>\n",
       "      <td>handbags</td>\n",
       "      <td>handbag</td>\n",
       "      <td>NaN</td>\n",
       "      <td>handbags six those</td>\n",
       "      <td>1.0</td>\n",
       "      <td>ENG4016</td>\n",
       "      <td>4.0</td>\n",
       "    </tr>\n",
       "    <tr>\n",
       "      <th>16749</th>\n",
       "      <td>19.0</td>\n",
       "      <td>nine pitchers</td>\n",
       "      <td>pitchers nine</td>\n",
       "      <td>NaN</td>\n",
       "      <td>NaN</td>\n",
       "      <td>dem-num</td>\n",
       "      <td>2017-11-23 14:54</td>\n",
       "      <td>F</td>\n",
       "      <td>NaN</td>\n",
       "      <td>NaN</td>\n",
       "      <td>nine</td>\n",
       "      <td>1</td>\n",
       "      <td>pitchers</td>\n",
       "      <td>pitcher</td>\n",
       "      <td>1.0</td>\n",
       "      <td>pitchers nine</td>\n",
       "      <td>1.0</td>\n",
       "      <td>ENG3010</td>\n",
       "      <td>49.0</td>\n",
       "    </tr>\n",
       "  </tbody>\n",
       "</table>\n",
       "</div>"
      ],
      "text/plain": [
       "        age              buttonA              buttonB              buttonC  \\\n",
       "9471   22.0   pitchers ten dirty   dirty ten pitchers   pitchers dirty ten   \n",
       "672    18.0   five these ribbons   these five ribbons   ribbons five these   \n",
       "3903   23.0           boxes five           five boxes                  NaN   \n",
       "14271  20.0   stone three leaves   three stone leaves   leaves stone three   \n",
       "4926   21.0          purple dart          dart purple                  NaN   \n",
       "6265   22.0  four those spatulas  spatulas four those  spatulas those four   \n",
       "17323  18.0           two chairs           chairs two                  NaN   \n",
       "7140   18.0          vases those          those vases                  NaN   \n",
       "9554   19.0   handbags those six   handbags six those   those six handbags   \n",
       "16749  19.0        nine pitchers        pitchers nine                  NaN   \n",
       "\n",
       "                   buttonD     cond              date gender  iso modInner  \\\n",
       "9471    ten dirty pitchers  num-adj  2017-11-24 17:03      F  1.0    dirty   \n",
       "672     ribbons these five  dem-num  2017-11-14 14:13      F  1.0     five   \n",
       "3903                   NaN  dem-num  2017-11-16 16:22      F  NaN      NaN   \n",
       "14271   leaves three stone  num-adj  2017-11-16 17:06      M  1.0    stone   \n",
       "4926                   NaN  dem-adj  2018-01-25 12:19      F  NaN      NaN   \n",
       "6265   those four spatulas  dem-num  2017-11-23 14:55      F  0.0     four   \n",
       "17323                  NaN  num-adj  2017-11-16 14:58      M  NaN      NaN   \n",
       "7140                   NaN  dem-num  2017-11-14 14:04      F  NaN      NaN   \n",
       "9554    six those handbags  dem-num  2017-12-05 14:09      F  1.0      six   \n",
       "16749                  NaN  dem-num  2017-11-23 14:54      F  NaN      NaN   \n",
       "\n",
       "      modOuter  nbMods      noun nounSing  post             response  \\\n",
       "9471       ten       2  pitchers  pitcher   NaN   pitchers dirty ten   \n",
       "672      these       2   ribbons   ribbon   NaN   ribbons five these   \n",
       "3903      five       1     boxes      box   1.0           boxes five   \n",
       "14271    three       2    leaves     leaf   NaN   leaves stone three   \n",
       "4926    purple       1      dart     dart   1.0          dart purple   \n",
       "6265     those       2  spatulas  spatula   NaN  spatulas those four   \n",
       "17323      two       1    chairs    chair   1.0           chairs two   \n",
       "7140     those       1     vases     vase   1.0          vases those   \n",
       "9554     those       2  handbags  handbag   NaN   handbags six those   \n",
       "16749     nine       1  pitchers  pitcher   1.0        pitchers nine   \n",
       "\n",
       "       responseButton      suj  trial  \n",
       "9471              2.0  ENG4014   21.0  \n",
       "672               2.0  ENG2001   22.0  \n",
       "3903              0.0  ENG4007    3.0  \n",
       "14271             2.0  ENG4008   21.0  \n",
       "4926              1.0  ENG4027   26.0  \n",
       "6265              2.0  ENG2007   15.0  \n",
       "17323             1.0  ENG1002   23.0  \n",
       "7140              0.0  ENG3001   40.0  \n",
       "9554              1.0  ENG4016    4.0  \n",
       "16749             1.0  ENG3010   49.0  "
      ]
     },
     "execution_count": 42,
     "metadata": {},
     "output_type": "execute_result"
    }
   ],
   "source": [
    "df.sample(10)"
   ]
  },
  {
   "cell_type": "markdown",
   "metadata": {},
   "source": [
    "Note that these data are only from the testing phase, so unlike in the original experiment, no separation of the data is necessary."
   ]
  },
  {
   "cell_type": "markdown",
   "metadata": {},
   "source": [
    "Check how many participants we have in each condition:"
   ]
  },
  {
   "cell_type": "code",
   "execution_count": 43,
   "metadata": {},
   "outputs": [
    {
     "data": {
      "text/plain": [
       "cond\n",
       "dem-adj    32\n",
       "dem-num    38\n",
       "num-adj    34\n",
       "Name: suj, dtype: int64"
      ]
     },
     "execution_count": 43,
     "metadata": {},
     "output_type": "execute_result"
    }
   ],
   "source": [
    "df.groupby('cond').suj.nunique()"
   ]
  },
  {
   "cell_type": "markdown",
   "metadata": {},
   "source": [
    "Check by participant accuracy on single-modifier trials.  The critical column is `post` denoting whether or not (1 or 0) a response was postnominal."
   ]
  },
  {
   "cell_type": "code",
   "execution_count": 44,
   "metadata": {},
   "outputs": [
    {
     "data": {
      "text/plain": [
       "suj      cond   \n",
       "ENG4014  num-adj    1.0\n",
       "ENG1008  num-adj    1.0\n",
       "ENG4017  num-adj    1.0\n",
       "ENG4019  dem-num    1.0\n",
       "ENG1003  dem-adj    1.0\n",
       "ENG3024  dem-adj    1.0\n",
       "ENG3003  dem-adj    1.0\n",
       "ENG4018  dem-adj    1.0\n",
       "ENG3025  dem-num    1.0\n",
       "ENG2023  num-adj    1.0\n",
       "ENG4011  num-adj    1.0\n",
       "ENG3017  num-adj    1.0\n",
       "ENG3001  dem-num    1.0\n",
       "ENG1009  dem-adj    1.0\n",
       "ENG3004  dem-num    1.0\n",
       "ENG1005  num-adj    1.0\n",
       "ENG3010  dem-num    1.0\n",
       "ENG4026  num-adj    1.0\n",
       "ENG4013  dem-num    1.0\n",
       "ENG1001  dem-num    1.0\n",
       "Name: post, dtype: float64"
      ]
     },
     "execution_count": 44,
     "metadata": {},
     "output_type": "execute_result"
    }
   ],
   "source": [
    "df[df.nbMods == 1].groupby(['suj', 'cond']).post.mean().sample(20)"
   ]
  },
  {
   "cell_type": "markdown",
   "metadata": {},
   "source": [
    "Plot histogram of single-modifier trial accuracy."
   ]
  },
  {
   "cell_type": "code",
   "execution_count": 45,
   "metadata": {},
   "outputs": [
    {
     "data": {
      "text/plain": [
       "<matplotlib.axes._subplots.AxesSubplot at 0x1a1b2f0bd0>"
      ]
     },
     "execution_count": 45,
     "metadata": {},
     "output_type": "execute_result"
    },
    {
     "data": {
      "image/png": "[encoded data removed]",
      "text/plain": [
       "<matplotlib.figure.Figure at 0x1a0d7a9e50>"
      ]
     },
     "metadata": {},
     "output_type": "display_data"
    }
   ],
   "source": [
    "df[df.nbMods == 1].groupby(['suj', 'cond']).post.mean().hist()"
   ]
  },
  {
   "cell_type": "code",
   "execution_count": 46,
   "metadata": {},
   "outputs": [],
   "source": [
    "aggregators = {'iso':mean}\n",
    "\n",
    "gp = df[df.nbMods == 2].groupby(['suj', 'cond'], as_index=False).agg(aggregators)"
   ]
  },
  {
   "cell_type": "code",
   "execution_count": 47,
   "metadata": {},
   "outputs": [
    {
     "data": {
      "text/plain": [
       "[(-0.05, 1.05)]"
      ]
     },
     "execution_count": 47,
     "metadata": {},
     "output_type": "execute_result"
    },
    {
     "data": {
      "image/png": "[encoded data removed]",
      "text/plain": [
       "<matplotlib.figure.Figure at 0x1a1c399c10>"
      ]
     },
     "metadata": {},
     "output_type": "display_data"
    }
   ],
   "source": [
    "fig, ax = subplots()\n",
    "\n",
    "order=['dem-adj', 'num-adj', 'dem-num']\n",
    "\n",
    "sns.barplot(x='cond', y='iso', data=gp, ax=ax, alpha=0, capsize=0.2, errcolor='darkgrey', order=order)\n",
    "sns.swarmplot(x='cond', y='iso', data=gp, ax=ax, order=order)\n",
    "\n",
    "ax.set(ylim=(-0.05,1.05))"
   ]
  },
  {
   "cell_type": "markdown",
   "metadata": {},
   "source": [
    "Prepare to do R modelling."
   ]
  },
  {
   "cell_type": "code",
   "execution_count": 48,
   "metadata": {},
   "outputs": [
    {
     "name": "stdout",
     "output_type": "stream",
     "text": [
      "The rpy2.ipython extension is already loaded. To reload it, use:\n",
      "  %reload_ext rpy2.ipython\n"
     ]
    }
   ],
   "source": [
    "%load_ext rpy2.ipython"
   ]
  },
  {
   "cell_type": "markdown",
   "metadata": {},
   "source": [
    "Load in data and create subsets on which each model will be run."
   ]
  },
  {
   "cell_type": "code",
   "execution_count": 49,
   "metadata": {},
   "outputs": [],
   "source": [
    "%%R\n",
    "library('lme4')\n",
    "setwd('/Users/Alexander/Documents/Science/U20/POS/English/scripts/')\n",
    "\n",
    "d <- read.csv('../data/test/ENGtest.csv')\n",
    "test <- subset(d, d$nbMods==2) # only select two modifier trials\n",
    "\n",
    "testAdjDem <- subset(test, test$cond==\"dem-adj\")\n",
    "testAdjNum <- subset(test, test$cond==\"num-adj\")\n",
    "testNumDem <- subset(test, test$cond==\"dem-num\")"
   ]
  },
  {
   "cell_type": "markdown",
   "metadata": {},
   "source": [
    "Run models for the adj-dem condition, and test whether intercept is significantly different from chance level."
   ]
  },
  {
   "cell_type": "code",
   "execution_count": 50,
   "metadata": {},
   "outputs": [
    {
     "data": {
      "text/plain": [
       "Data: testAdjDem\n",
       "Models:\n",
       "m0AdjDem: iso ~ 0 + (1 | suj) + (1 | nounSing)\n",
       "m1AdjDem: iso ~ 1 + (1 | suj) + (1 | nounSing)\n",
       "         Df    AIC    BIC  logLik deviance  Chisq Chi Df Pr(>Chisq)    \n",
       "m0AdjDem  2 721.53 733.69 -358.76   717.53                             \n",
       "m1AdjDem  3 708.13 726.38 -351.06   702.13 15.398      1  8.708e-05 ***\n",
       "---\n",
       "Signif. codes:  0 ‘***’ 0.001 ‘**’ 0.01 ‘*’ 0.05 ‘.’ 0.1 ‘ ’ 1\n"
      ]
     },
     "metadata": {},
     "output_type": "display_data"
    }
   ],
   "source": [
    "%%R\n",
    "\n",
    "m1AdjDem <- glmer(iso ~ 1 + (1|suj) + (1|nounSing), family=binomial, data=testAdjDem)\n",
    "m0AdjDem <- glmer(iso ~ 0 + (1|suj) + (1|nounSing), family=binomial, data=testAdjDem)\n",
    "\n",
    "anova(m1AdjDem, m0AdjDem)"
   ]
  },
  {
   "cell_type": "markdown",
   "metadata": {
    "collapsed": true
   },
   "source": [
    "Run models for the adj-num condition, and test whether intercept is significantly different from chance level."
   ]
  },
  {
   "cell_type": "code",
   "execution_count": 51,
   "metadata": {},
   "outputs": [
    {
     "data": {
      "text/plain": [
       "Data: testAdjNum\n",
       "Models:\n",
       "m0AdjNum: iso ~ 0 + (1 | suj) + (1 | nounSing)\n",
       "m1AdjNum: iso ~ 1 + (1 | suj) + (1 | nounSing)\n",
       "         Df    AIC    BIC  logLik deviance  Chisq Chi Df Pr(>Chisq)    \n",
       "m0AdjNum  2 928.17 940.44 -462.08   924.17                             \n",
       "m1AdjNum  3 916.99 935.40 -455.49   910.99 13.178      1  0.0002832 ***\n",
       "---\n",
       "Signif. codes:  0 ‘***’ 0.001 ‘**’ 0.01 ‘*’ 0.05 ‘.’ 0.1 ‘ ’ 1\n"
      ]
     },
     "metadata": {},
     "output_type": "display_data"
    }
   ],
   "source": [
    "%%R\n",
    "\n",
    "m1AdjNum <- glmer(iso ~ 1 + (1|suj) + (1|nounSing), family=binomial, data=testAdjNum)\n",
    "m0AdjNum <- glmer(iso ~ 0 + (1|suj) + (1|nounSing), family=binomial, data=testAdjNum)\n",
    "\n",
    "anova(m1AdjNum, m0AdjNum)"
   ]
  },
  {
   "cell_type": "markdown",
   "metadata": {},
   "source": [
    "Run models for the num-dem condition, and test whether intercept is significantly different from chance level."
   ]
  },
  {
   "cell_type": "code",
   "execution_count": 52,
   "metadata": {},
   "outputs": [
    {
     "data": {
      "text/plain": [
       "Data: testNumDem\n",
       "Models:\n",
       "m0NumDem: iso ~ 0 + (1 | suj) + (1 | nounSing)\n",
       "m1NumDem: iso ~ 1 + (1 | suj) + (1 | nounSing)\n",
       "         Df    AIC    BIC  logLik deviance  Chisq Chi Df Pr(>Chisq)    \n",
       "m0NumDem  2 1331.3 1343.9 -663.67   1327.3                             \n",
       "m1NumDem  3 1320.2 1339.0 -657.09   1314.2 13.149      1  0.0002877 ***\n",
       "---\n",
       "Signif. codes:  0 ‘***’ 0.001 ‘**’ 0.01 ‘*’ 0.05 ‘.’ 0.1 ‘ ’ 1\n"
      ]
     },
     "metadata": {},
     "output_type": "display_data"
    }
   ],
   "source": [
    "%%R\n",
    "\n",
    "m1NumDem <- glmer(iso ~ 1 + (1|suj) + (1|nounSing), family=binomial, data=testNumDem)\n",
    "m0NumDem <- glmer(iso ~ 0 + (1|suj) + (1|nounSing), family=binomial, data=testNumDem)\n",
    "\n",
    "anova(m1NumDem, m0NumDem)"
   ]
  },
  {
   "cell_type": "code",
   "execution_count": null,
   "metadata": {},
   "outputs": [],
   "source": []
  }
 ],
 "metadata": {
  "kernelspec": {
   "display_name": "Python 2",
   "language": "python",
   "name": "python2"
  },
  "language_info": {
   "codemirror_mode": {
    "name": "ipython",
    "version": 2
   },
   "file_extension": ".py",
   "mimetype": "text/x-python",
   "name": "python",
   "nbconvert_exporter": "python",
   "pygments_lexer": "ipython2",
   "version": "2.7.14"
  }
 },
 "nbformat": 4,
 "nbformat_minor": 1
}
