{
 "cells": [
  {
   "cell_type": "markdown",
   "metadata": {},
   "source": [
    "# Analysis of U20 Thai data"
   ]
  },
  {
   "cell_type": "markdown",
   "metadata": {},
   "source": [
    "## Quick summary\n",
    "\n",
    "Thai is an isomorphic, harmonic language, with the following NP structure:\n",
    "\n",
    "N Adj Num Dem\n",
    "\n",
    "It is the mirror image of English.\n",
    "\n",
    "Participants in this experiment were exposed to an English-like version of Thai where modifiers consistently preceded the noun they modified.\n",
    "\n",
    "Note that Thai normally uses classifiers that were omitted in this experiment.  This makes it less ecological than the English equivalent experiment (Culbertson & Adger, 2014)."
   ]
  },
  {
   "cell_type": "markdown",
   "metadata": {},
   "source": [
    "## Data checking and basic plotting\n",
    "\n",
    "Load libraries and data in."
   ]
  },
  {
   "cell_type": "code",
   "execution_count": 1,
   "metadata": {},
   "outputs": [],
   "source": [
    "# allow inline plotting\n",
    "%matplotlib inline\n",
    "\n",
    "# dataframe package\n",
    "import pandas as pd\n",
    "# matplotlib wrapper for easier plotting\n",
    "import seaborn as sns\n",
    "# allow math functions\n",
    "from numpy import * \n",
    "\n",
    "# %run clean-data.py # concatenates and cleans data into DataFrame called df\n",
    "df = pd.read_csv('../data/U20Thai_TestData.csv')"
   ]
  },
  {
   "cell_type": "markdown",
   "metadata": {},
   "source": [
    "Check that data were loaded correctly."
   ]
  },
  {
   "cell_type": "code",
   "execution_count": 2,
   "metadata": {},
   "outputs": [
    {
     "data": {
      "text/html": [
       "<div>\n",
       "<style scoped>\n",
       "    .dataframe tbody tr th:only-of-type {\n",
       "        vertical-align: middle;\n",
       "    }\n",
       "\n",
       "    .dataframe tbody tr th {\n",
       "        vertical-align: top;\n",
       "    }\n",
       "\n",
       "    .dataframe thead th {\n",
       "        text-align: right;\n",
       "    }\n",
       "</style>\n",
       "<table border=\"1\" class=\"dataframe\">\n",
       "  <thead>\n",
       "    <tr style=\"text-align: right;\">\n",
       "      <th></th>\n",
       "      <th>ID</th>\n",
       "      <th>sex</th>\n",
       "      <th>condition</th>\n",
       "      <th>trials</th>\n",
       "      <th>phase</th>\n",
       "      <th>trial</th>\n",
       "      <th>type</th>\n",
       "      <th>correctChoice</th>\n",
       "      <th>choice1</th>\n",
       "      <th>choice2</th>\n",
       "      <th>...</th>\n",
       "      <th>mod</th>\n",
       "      <th>oldNoun</th>\n",
       "      <th>oldMod1</th>\n",
       "      <th>oldMod2</th>\n",
       "      <th>choiceType1</th>\n",
       "      <th>choiceType2</th>\n",
       "      <th>choiceType3</th>\n",
       "      <th>choiceType4</th>\n",
       "      <th>choice</th>\n",
       "      <th>binaryCorrect</th>\n",
       "    </tr>\n",
       "  </thead>\n",
       "  <tbody>\n",
       "    <tr>\n",
       "      <th>279</th>\n",
       "      <td>id_Fri Apr 21 2017 10:49:51 GMT+0700 (SE Asia ...</td>\n",
       "      <td>female</td>\n",
       "      <td>condition_NumDem</td>\n",
       "      <td>testTrial8_inner-outer_3_shirt those five_shir...</td>\n",
       "      <td>test</td>\n",
       "      <td>testTrial8</td>\n",
       "      <td>inner-outer</td>\n",
       "      <td>3</td>\n",
       "      <td>shirt those five</td>\n",
       "      <td>shirt five those</td>\n",
       "      <td>...</td>\n",
       "      <td>shirt</td>\n",
       "      <td>False</td>\n",
       "      <td>True</td>\n",
       "      <td>True</td>\n",
       "      <td>N-Outer-Inner</td>\n",
       "      <td>N-Inner-Outer</td>\n",
       "      <td>Outer-Inner-N</td>\n",
       "      <td>Inner-Outer-N</td>\n",
       "      <td>3</td>\n",
       "      <td>1</td>\n",
       "    </tr>\n",
       "    <tr>\n",
       "      <th>675</th>\n",
       "      <td>id_Fri Apr 21 2017 12:33:36 GMT+0700 (SE Asia ...</td>\n",
       "      <td>male</td>\n",
       "      <td>condition_NumDem</td>\n",
       "      <td>testTrial4_inner-outer_4_pear one that_pear th...</td>\n",
       "      <td>test</td>\n",
       "      <td>testTrial4</td>\n",
       "      <td>inner-outer</td>\n",
       "      <td>4</td>\n",
       "      <td>pear one that</td>\n",
       "      <td>pear that one</td>\n",
       "      <td>...</td>\n",
       "      <td>pear</td>\n",
       "      <td>True</td>\n",
       "      <td>False</td>\n",
       "      <td>True</td>\n",
       "      <td>N-Inner-Outer</td>\n",
       "      <td>N-Outer-Inner</td>\n",
       "      <td>Inner-Outer-N</td>\n",
       "      <td>Outer-Inner-N</td>\n",
       "      <td>4</td>\n",
       "      <td>1</td>\n",
       "    </tr>\n",
       "    <tr>\n",
       "      <th>3560</th>\n",
       "      <td>id_Wed Apr 19 2017 13:19:31 GMT+0700 (SE Asia ...</td>\n",
       "      <td>female</td>\n",
       "      <td>condition_AdjNum</td>\n",
       "      <td>testTrial9_inner-outer_4_bowl four orange_oran...</td>\n",
       "      <td>test</td>\n",
       "      <td>testTrial9</td>\n",
       "      <td>inner-outer</td>\n",
       "      <td>4</td>\n",
       "      <td>bowl four orange</td>\n",
       "      <td>orange four bowl</td>\n",
       "      <td>...</td>\n",
       "      <td>bowl</td>\n",
       "      <td>True</td>\n",
       "      <td>True</td>\n",
       "      <td>True</td>\n",
       "      <td>N-Outer-Inner</td>\n",
       "      <td>Inner-Outer-N</td>\n",
       "      <td>N-Inner-Outer</td>\n",
       "      <td>Outer-Inner-N</td>\n",
       "      <td>4</td>\n",
       "      <td>1</td>\n",
       "    </tr>\n",
       "    <tr>\n",
       "      <th>1966</th>\n",
       "      <td>id_Thu May 18 2017 14:19:22 GMT+0700 (SE Asia ...</td>\n",
       "      <td>female</td>\n",
       "      <td>condition_AdjNum</td>\n",
       "      <td>testTrial15_inner-outer_4_scarf stone one_ston...</td>\n",
       "      <td>test</td>\n",
       "      <td>testTrial15</td>\n",
       "      <td>inner-outer</td>\n",
       "      <td>4</td>\n",
       "      <td>scarf stone one</td>\n",
       "      <td>stone one scarf</td>\n",
       "      <td>...</td>\n",
       "      <td>scarf</td>\n",
       "      <td>True</td>\n",
       "      <td>True</td>\n",
       "      <td>True</td>\n",
       "      <td>N-Inner-Outer</td>\n",
       "      <td>Inner-Outer-N</td>\n",
       "      <td>N-Outer-Inner</td>\n",
       "      <td>Outer-Inner-N</td>\n",
       "      <td>4</td>\n",
       "      <td>1</td>\n",
       "    </tr>\n",
       "    <tr>\n",
       "      <th>3880</th>\n",
       "      <td>id_Wed Apr 19 2017 13:29:48 GMT+0700 (SE Asia ...</td>\n",
       "      <td>male</td>\n",
       "      <td>condition_AdjNum</td>\n",
       "      <td>testTrial9_inner_1_stone car_car stone_----_--...</td>\n",
       "      <td>test</td>\n",
       "      <td>testTrial9</td>\n",
       "      <td>inner</td>\n",
       "      <td>1</td>\n",
       "      <td>stone car</td>\n",
       "      <td>car stone</td>\n",
       "      <td>...</td>\n",
       "      <td>car</td>\n",
       "      <td>True</td>\n",
       "      <td>True</td>\n",
       "      <td>NaN</td>\n",
       "      <td>NaN</td>\n",
       "      <td>NaN</td>\n",
       "      <td>NaN</td>\n",
       "      <td>NaN</td>\n",
       "      <td>2</td>\n",
       "      <td>0</td>\n",
       "    </tr>\n",
       "  </tbody>\n",
       "</table>\n",
       "<p>5 rows × 23 columns</p>\n",
       "</div>"
      ],
      "text/plain": [
       "                                                     ID     sex  \\\n",
       "279   id_Fri Apr 21 2017 10:49:51 GMT+0700 (SE Asia ...  female   \n",
       "675   id_Fri Apr 21 2017 12:33:36 GMT+0700 (SE Asia ...    male   \n",
       "3560  id_Wed Apr 19 2017 13:19:31 GMT+0700 (SE Asia ...  female   \n",
       "1966  id_Thu May 18 2017 14:19:22 GMT+0700 (SE Asia ...  female   \n",
       "3880  id_Wed Apr 19 2017 13:29:48 GMT+0700 (SE Asia ...    male   \n",
       "\n",
       "             condition                                             trials  \\\n",
       "279   condition_NumDem  testTrial8_inner-outer_3_shirt those five_shir...   \n",
       "675   condition_NumDem  testTrial4_inner-outer_4_pear one that_pear th...   \n",
       "3560  condition_AdjNum  testTrial9_inner-outer_4_bowl four orange_oran...   \n",
       "1966  condition_AdjNum  testTrial15_inner-outer_4_scarf stone one_ston...   \n",
       "3880  condition_AdjNum  testTrial9_inner_1_stone car_car stone_----_--...   \n",
       "\n",
       "     phase        trial         type  correctChoice           choice1  \\\n",
       "279   test   testTrial8  inner-outer              3  shirt those five   \n",
       "675   test   testTrial4  inner-outer              4     pear one that   \n",
       "3560  test   testTrial9  inner-outer              4  bowl four orange   \n",
       "1966  test  testTrial15  inner-outer              4   scarf stone one   \n",
       "3880  test   testTrial9        inner              1         stone car   \n",
       "\n",
       "               choice2      ...         mod oldNoun oldMod1 oldMod2  \\\n",
       "279   shirt five those      ...       shirt   False    True    True   \n",
       "675      pear that one      ...        pear    True   False    True   \n",
       "3560  orange four bowl      ...        bowl    True    True    True   \n",
       "1966   stone one scarf      ...       scarf    True    True    True   \n",
       "3880         car stone      ...         car    True    True     NaN   \n",
       "\n",
       "        choiceType1    choiceType2    choiceType3    choiceType4 choice  \\\n",
       "279   N-Outer-Inner  N-Inner-Outer  Outer-Inner-N  Inner-Outer-N      3   \n",
       "675   N-Inner-Outer  N-Outer-Inner  Inner-Outer-N  Outer-Inner-N      4   \n",
       "3560  N-Outer-Inner  Inner-Outer-N  N-Inner-Outer  Outer-Inner-N      4   \n",
       "1966  N-Inner-Outer  Inner-Outer-N  N-Outer-Inner  Outer-Inner-N      4   \n",
       "3880            NaN            NaN            NaN            NaN      2   \n",
       "\n",
       "     binaryCorrect  \n",
       "279              1  \n",
       "675              1  \n",
       "3560             1  \n",
       "1966             1  \n",
       "3880             0  \n",
       "\n",
       "[5 rows x 23 columns]"
      ]
     },
     "execution_count": 2,
     "metadata": {},
     "output_type": "execute_result"
    }
   ],
   "source": [
    "df.sample(5)"
   ]
  },
  {
   "cell_type": "markdown",
   "metadata": {},
   "source": [
    "Select data from the test phase only."
   ]
  },
  {
   "cell_type": "code",
   "execution_count": 3,
   "metadata": {},
   "outputs": [],
   "source": [
    "df = df[df.phase=='test']"
   ]
  },
  {
   "cell_type": "markdown",
   "metadata": {},
   "source": [
    "Check how many participants we have in each condition:"
   ]
  },
  {
   "cell_type": "code",
   "execution_count": 4,
   "metadata": {},
   "outputs": [
    {
     "data": {
      "text/plain": [
       "condition\n",
       "condition_AdjDem    20\n",
       "condition_AdjNum    21\n",
       "condition_NumDem    16\n",
       "Name: ID, dtype: int64"
      ]
     },
     "execution_count": 4,
     "metadata": {},
     "output_type": "execute_result"
    }
   ],
   "source": [
    "df.groupby('condition').ID.nunique()"
   ]
  },
  {
   "cell_type": "markdown",
   "metadata": {},
   "source": [
    "Check by-participant accuracy on single-modifier trials.  The critical column is `post` denoting whether or not (1 or 0) a response was postnominal."
   ]
  },
  {
   "cell_type": "code",
   "execution_count": 5,
   "metadata": {},
   "outputs": [],
   "source": [
    "singleMods = df[df.type.isin(['inner','outer'])].groupby(['ID', 'condition'], as_index=False).binaryCorrect.mean()"
   ]
  },
  {
   "cell_type": "markdown",
   "metadata": {},
   "source": [
    "Plot histogram of single-modifier trial accuracy."
   ]
  },
  {
   "cell_type": "code",
   "execution_count": 6,
   "metadata": {},
   "outputs": [
    {
     "data": {
      "text/plain": [
       "(0, 1)"
      ]
     },
     "execution_count": 6,
     "metadata": {},
     "output_type": "execute_result"
    },
    {
     "data": {
      "image/png": "[encoded data removed]",
      "text/plain": [
       "<matplotlib.figure.Figure at 0x10c5294d0>"
      ]
     },
     "metadata": {},
     "output_type": "display_data"
    }
   ],
   "source": [
    "ax = df[df.type.isin(['inner','outer'])].groupby(['ID', 'condition']).binaryCorrect.mean().hist(color='green')\n",
    "ax.set_xlim((0,1))"
   ]
  },
  {
   "cell_type": "markdown",
   "metadata": {},
   "source": [
    "Participants are clearly responding correctly on single modifier trials, with only a couple of uncooperative people below the 0.85 threshold.  Their data are excluded."
   ]
  },
  {
   "cell_type": "code",
   "execution_count": 7,
   "metadata": {},
   "outputs": [],
   "source": [
    "badParticipants = singleMods[singleMods.binaryCorrect<0.85].ID.unique()\n",
    "df = df[~df.ID.isin(badParticipants)]"
   ]
  },
  {
   "cell_type": "markdown",
   "metadata": {},
   "source": [
    "Now check N's again to see how many participants remain after exclusion."
   ]
  },
  {
   "cell_type": "code",
   "execution_count": 8,
   "metadata": {},
   "outputs": [
    {
     "data": {
      "text/plain": [
       "condition\n",
       "condition_AdjDem    18\n",
       "condition_AdjNum    18\n",
       "condition_NumDem    15\n",
       "Name: ID, dtype: int64"
      ]
     },
     "execution_count": 8,
     "metadata": {},
     "output_type": "execute_result"
    }
   ],
   "source": [
    "df.groupby('condition').ID.nunique()"
   ]
  },
  {
   "cell_type": "markdown",
   "metadata": {},
   "source": [
    "Plot histogram of two-modifier trial accuracy for remaining participants."
   ]
  },
  {
   "cell_type": "code",
   "execution_count": 9,
   "metadata": {},
   "outputs": [
    {
     "data": {
      "text/plain": [
       "(0, 1)"
      ]
     },
     "execution_count": 9,
     "metadata": {},
     "output_type": "execute_result"
    },
    {
     "data": {
      "image/png": "[encoded data removed]",
      "text/plain": [
       "<matplotlib.figure.Figure at 0x10d5650d0>"
      ]
     },
     "metadata": {},
     "output_type": "display_data"
    }
   ],
   "source": [
    "ax = df[df.type=='inner-outer'].groupby(['ID', 'condition']).binaryCorrect.mean().hist(color='green')\n",
    "ax.set_xlim((0,1))"
   ]
  },
  {
   "cell_type": "code",
   "execution_count": 10,
   "metadata": {},
   "outputs": [],
   "source": [
    "aggregators = {'binaryCorrect':mean}\n",
    "\n",
    "gp = df[df.type=='inner-outer'].groupby(['ID', 'condition'], as_index=False).agg(aggregators)\n",
    "\n",
    "order = ['condition_AdjDem', 'condition_NumDem', 'condition_AdjNum']"
   ]
  },
  {
   "cell_type": "code",
   "execution_count": 11,
   "metadata": {},
   "outputs": [
    {
     "data": {
      "text/plain": [
       "[<matplotlib.lines.Line2D at 0x111ee2a50>]"
      ]
     },
     "execution_count": 11,
     "metadata": {},
     "output_type": "execute_result"
    },
    {
     "data": {
      "image/png": "[encoded data removed]",
      "text/plain": [
       "<matplotlib.figure.Figure at 0x10cf57650>"
      ]
     },
     "metadata": {},
     "output_type": "display_data"
    }
   ],
   "source": [
    "fig, ax = subplots()\n",
    "\n",
    "sns.barplot(x='condition', y='binaryCorrect', data=gp, ax=ax, alpha=0, capsize=0.2, errcolor='darkgrey', order=order)\n",
    "sns.swarmplot(x='condition', y='binaryCorrect', data=gp, ax=ax, color='green', order=order)\n",
    "\n",
    "ax.set(ylim=(-0.05,1.05))\n",
    "ax.plot(range(-1,4), [0.5]*5, color='grey', linestyle='--', linewidth=0.5)"
   ]
  },
  {
   "cell_type": "markdown",
   "metadata": {},
   "source": [
    "What are the participants below chance level doing?  Particularly in the AdjNum condition, where group performance is not different from chance (see stats below)...\n",
    "\n",
    "What are they answering?  Are they selecting the incorrect prenominal order or are they not doing the task correctly?"
   ]
  },
  {
   "cell_type": "code",
   "execution_count": 12,
   "metadata": {},
   "outputs": [
    {
     "name": "stdout",
     "output_type": "stream",
     "text": [
      "condition\n",
      "condition_AdjDem    166\n",
      "condition_AdjNum    192\n",
      "condition_NumDem    113\n",
      "Name: responsePostnominal, dtype: int64\n"
     ]
    }
   ],
   "source": [
    "def isIncorrectResponseTypePostnominal(i):\n",
    "    row = df.loc[i]\n",
    "    if row.binaryCorrect == 1:\n",
    "        return nan\n",
    "    \n",
    "    response = row.choice\n",
    "    responseType = row['choiceType'+str(response)]\n",
    "    \n",
    "    try:\n",
    "        if responseType[-1] == 'N':\n",
    "            return 0\n",
    "        else:\n",
    "            return 1\n",
    "    except:\n",
    "        return nan\n",
    "    \n",
    "df['responsePostnominal'] = df.index.map(lambda x: isIncorrectResponseTypePostnominal(x))\n",
    "\n",
    "print df.groupby('condition').responsePostnominal.count()\n",
    "\n",
    "aggregators = {'responsePostnominal':mean}\n",
    "\n",
    "gp = df[df.type=='inner-outer'].groupby(['ID', 'condition'], as_index=False).agg(aggregators)"
   ]
  },
  {
   "cell_type": "markdown",
   "metadata": {},
   "source": [
    "It appears that very few responses overall are postnominal, so mostly, participants are on task.  Below is the proportion of non prenominal isomorphic responses that are actually postnominal.  Apparently participants who are giving non-isomorphic responses are still choosing the prenominal positioning."
   ]
  },
  {
   "cell_type": "code",
   "execution_count": 13,
   "metadata": {},
   "outputs": [
    {
     "name": "stdout",
     "output_type": "stream",
     "text": [
      "condition\n",
      "condition_AdjDem    0.404880\n",
      "condition_AdjNum    0.274049\n",
      "condition_NumDem    0.253311\n",
      "Name: responsePostnominal, dtype: float64\n"
     ]
    },
    {
     "data": {
      "image/png": "[encoded data removed]",
      "text/plain": [
       "<matplotlib.figure.Figure at 0x10ccf4250>"
      ]
     },
     "metadata": {},
     "output_type": "display_data"
    }
   ],
   "source": [
    "fig, ax = subplots()\n",
    "\n",
    "sns.barplot(x='condition', y='responsePostnominal', data=gp, ax=ax, alpha=0, capsize=0.2, errcolor='darkgrey', order=order)\n",
    "sns.swarmplot(x='condition', y='responsePostnominal', data=gp, ax=ax, color='green', order=order)\n",
    "\n",
    "ax.set(ylim=(-0.05,1.05))\n",
    "ax.plot(range(-1,4), [0.5]*5, color='grey', linestyle='--', linewidth=0.5)\n",
    "\n",
    "print gp.groupby('condition').responsePostnominal.mean()"
   ]
  },
  {
   "cell_type": "markdown",
   "metadata": {},
   "source": [
    "Of the low number of responses that are incorrect, most participants are choosing the non-isomorphic prenominal order.  While this goes against the universal, it at least means that they have understood that modifiers precede rather than follow the noun in the experiment (i.e., they are on-task)."
   ]
  },
  {
   "cell_type": "markdown",
   "metadata": {},
   "source": [
    "## R modelling\n",
    "\n",
    "Prepare to do R modelling."
   ]
  },
  {
   "cell_type": "code",
   "execution_count": 14,
   "metadata": {},
   "outputs": [],
   "source": [
    "%load_ext rpy2.ipython"
   ]
  },
  {
   "cell_type": "markdown",
   "metadata": {},
   "source": [
    "Load in data and create subsets on which each model will be run."
   ]
  },
  {
   "cell_type": "code",
   "execution_count": 15,
   "metadata": {},
   "outputs": [
    {
     "name": "stderr",
     "output_type": "stream",
     "text": [
      "/Users/Alexander/anaconda/envs/rpy-env/lib/python2.7/site-packages/rpy2/rinterface/__init__.py:186: RRuntimeWarning: Le chargement a n�cessit� le package : Matrix\n",
      "\n",
      "  warnings.warn(x, RRuntimeWarning)\n"
     ]
    }
   ],
   "source": [
    "%%R\n",
    "library('lme4')\n",
    "\n",
    "d <- read.csv('../data/U20Thai_TestData.csv')\n",
    "test <- subset(d, d$type=='inner-outer') # only select two modifier trials\n",
    "\n",
    "testAdjDem <- subset(test, test$condition==\"condition_AdjDem\")\n",
    "testAdjNum <- subset(test, test$condition==\"condition_AdjNum\")\n",
    "testNumDem <- subset(test, test$condition==\"condition_NumDem\")"
   ]
  },
  {
   "cell_type": "markdown",
   "metadata": {},
   "source": [
    "### Adj-Dem\n",
    "\n",
    "Run models for the adj-dem condition, and test whether intercept is significantly different from chance level."
   ]
  },
  {
   "cell_type": "code",
   "execution_count": 16,
   "metadata": {},
   "outputs": [
    {
     "data": {
      "text/plain": [
       "Data: testAdjDem\n",
       "Models:\n",
       "m0AdjDem: binaryCorrect ~ 0 + (1 | ID) + (1 | mod)\n",
       "m1AdjDem: binaryCorrect ~ 1 + (1 | ID) + (1 | mod)\n",
       "         Df    AIC    BIC  logLik deviance  Chisq Chi Df Pr(>Chisq)   \n",
       "m0AdjDem  2 673.48 682.28 -334.74   669.48                            \n",
       "m1AdjDem  3 668.06 681.25 -331.03   662.06 7.4271      1   0.006425 **\n",
       "---\n",
       "Signif. codes:  0 ‘***’ 0.001 ‘**’ 0.01 ‘*’ 0.05 ‘.’ 0.1 ‘ ’ 1\n"
      ]
     },
     "metadata": {},
     "output_type": "display_data"
    }
   ],
   "source": [
    "%%R\n",
    "\n",
    "m1AdjDem <- glmer(binaryCorrect ~ 1 + (1|ID) + (1|mod), family=binomial, data=testAdjDem)\n",
    "m0AdjDem <- glmer(binaryCorrect ~ 0 + (1|ID) + (1|mod), family=binomial, data=testAdjDem)\n",
    "\n",
    "anova(m1AdjDem, m0AdjDem)"
   ]
  },
  {
   "cell_type": "markdown",
   "metadata": {
    "collapsed": true
   },
   "source": [
    "### Adj-Num\n",
    "\n",
    "Run models for the adj-num condition, and test whether intercept is significantly different from chance level."
   ]
  },
  {
   "cell_type": "code",
   "execution_count": 17,
   "metadata": {},
   "outputs": [
    {
     "data": {
      "text/plain": [
       "Data: testAdjNum\n",
       "Models:\n",
       "m0AdjNum: binaryCorrect ~ 0 + (1 | ID) + (1 | mod)\n",
       "m1AdjNum: binaryCorrect ~ 1 + (1 | ID) + (1 | mod)\n",
       "         Df    AIC    BIC  logLik deviance  Chisq Chi Df Pr(>Chisq)\n",
       "m0AdjNum  2 598.27 607.06 -297.13   594.27                         \n",
       "m1AdjNum  3 599.06 612.25 -296.53   593.06 1.2151      1     0.2703\n"
      ]
     },
     "metadata": {},
     "output_type": "display_data"
    }
   ],
   "source": [
    "%%R\n",
    "\n",
    "m1AdjNum <- glmer(binaryCorrect ~ 1 + (1|ID) + (1|mod), family=binomial, data=testAdjNum)\n",
    "m0AdjNum <- glmer(binaryCorrect ~ 0 + (1|ID) + (1|mod), family=binomial, data=testAdjNum)\n",
    "\n",
    "anova(m1AdjNum, m0AdjNum)"
   ]
  },
  {
   "cell_type": "markdown",
   "metadata": {},
   "source": [
    "### Num-Dem\n",
    "\n",
    "Run models for the num-dem condition, and test whether intercept is significantly different from chance level."
   ]
  },
  {
   "cell_type": "code",
   "execution_count": 18,
   "metadata": {},
   "outputs": [
    {
     "data": {
      "text/plain": [
       "Data: testNumDem\n",
       "Models:\n",
       "m0NumDem: binaryCorrect ~ 0 + (1 | ID) + (1 | mod)\n",
       "m1NumDem: binaryCorrect ~ 1 + (1 | ID) + (1 | mod)\n",
       "         Df    AIC    BIC  logLik deviance  Chisq Chi Df Pr(>Chisq)  \n",
       "m0NumDem  2 347.92 356.27 -171.96   343.92                           \n",
       "m1NumDem  3 343.89 356.41 -168.94   337.89 6.0372      1    0.01401 *\n",
       "---\n",
       "Signif. codes:  0 ‘***’ 0.001 ‘**’ 0.01 ‘*’ 0.05 ‘.’ 0.1 ‘ ’ 1\n"
      ]
     },
     "metadata": {},
     "output_type": "display_data"
    }
   ],
   "source": [
    "%%R\n",
    "\n",
    "m1NumDem <- glmer(binaryCorrect ~ 1 + (1|ID) + (1|mod), family=binomial, data=testNumDem)\n",
    "m0NumDem <- glmer(binaryCorrect ~ 0 + (1|ID) + (1|mod), family=binomial, data=testNumDem)\n",
    "\n",
    "anova(m1NumDem, m0NumDem)"
   ]
  },
  {
   "cell_type": "markdown",
   "metadata": {},
   "source": [
    "## Remarks\n",
    "\n",
    "Something funny is going on in the AdjNum condition.  Participants seem less likely to choose the prenominal isomorphic order and are instead preferring the prenominal non-isomorphic order: Adj Num N.  This does not follow from Gump's original comments suggesting that poor performance might be to do with their choosing N Num Adj as the order.  They do not seem to be doing that.\n",
    "\n",
    "Currently seeking to consult Thai speakers about our stimuli before heading to Bangkok."
   ]
  },
  {
   "cell_type": "code",
   "execution_count": null,
   "metadata": {
    "collapsed": true
   },
   "outputs": [],
   "source": []
  }
 ],
 "metadata": {
  "kernelspec": {
   "display_name": "Python 2",
   "language": "python",
   "name": "python2"
  },
  "language_info": {
   "codemirror_mode": {
    "name": "ipython",
    "version": 2
   },
   "file_extension": ".py",
   "mimetype": "text/x-python",
   "name": "python",
   "nbconvert_exporter": "python",
   "pygments_lexer": "ipython2",
   "version": "2.7.14"
  }
 },
 "nbformat": 4,
 "nbformat_minor": 1
}
