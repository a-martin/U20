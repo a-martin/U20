{
 "cells": [
  {
   "cell_type": "markdown",
   "metadata": {},
   "source": [
    "# Analysis of U20 Thai data"
   ]
  },
  {
   "cell_type": "markdown",
   "metadata": {},
   "source": [
    "## Quick summary\n",
    "\n",
    "Thai is an isomorphic, harmonic language, with the following NP structure:\n",
    "\n",
    "N Adj Num Dem\n",
    "\n",
    "It is the mirror image of English.\n",
    "\n",
    "Participants in this experiment were exposed to an English-like version of Thai where modifiers consistently preceded the noun they modified.\n",
    "\n",
    "Note that Thai normally uses classifiers that were omitted in this experiment.  This makes it less ecological than the English equivalent experiment (Culbertson & Adger, 2014)."
   ]
  },
  {
   "cell_type": "markdown",
   "metadata": {},
   "source": [
    "## Data checking and basic plotting\n",
    "\n",
    "Load libraries and data in."
   ]
  },
  {
   "cell_type": "code",
   "execution_count": 31,
   "metadata": {},
   "outputs": [],
   "source": [
    "# allow inline plotting\n",
    "%matplotlib inline\n",
    "\n",
    "from matplotlib.pyplot import *\n",
    "\n",
    "# dataframe package\n",
    "import pandas as pd\n",
    "# matplotlib wrapper for easier plotting\n",
    "import seaborn as sns\n",
    "# allow math functions\n",
    "from numpy import * \n",
    "\n",
    "# %run clean-data.py # concatenates and cleans data into DataFrame called df\n",
    "df = pd.read_csv('../data/U20Thai_TestData.csv')"
   ]
  },
  {
   "cell_type": "markdown",
   "metadata": {},
   "source": [
    "Check that data were loaded correctly."
   ]
  },
  {
   "cell_type": "code",
   "execution_count": 32,
   "metadata": {},
   "outputs": [
    {
     "data": {
      "text/html": [
       "<div>\n",
       "<style scoped>\n",
       "    .dataframe tbody tr th:only-of-type {\n",
       "        vertical-align: middle;\n",
       "    }\n",
       "\n",
       "    .dataframe tbody tr th {\n",
       "        vertical-align: top;\n",
       "    }\n",
       "\n",
       "    .dataframe thead th {\n",
       "        text-align: right;\n",
       "    }\n",
       "</style>\n",
       "<table border=\"1\" class=\"dataframe\">\n",
       "  <thead>\n",
       "    <tr style=\"text-align: right;\">\n",
       "      <th></th>\n",
       "      <th>ID</th>\n",
       "      <th>sex</th>\n",
       "      <th>condition</th>\n",
       "      <th>trials</th>\n",
       "      <th>phase</th>\n",
       "      <th>trial</th>\n",
       "      <th>type</th>\n",
       "      <th>correctChoice</th>\n",
       "      <th>choice1</th>\n",
       "      <th>choice2</th>\n",
       "      <th>...</th>\n",
       "      <th>mod</th>\n",
       "      <th>oldNoun</th>\n",
       "      <th>oldMod1</th>\n",
       "      <th>oldMod2</th>\n",
       "      <th>choiceType1</th>\n",
       "      <th>choiceType2</th>\n",
       "      <th>choiceType3</th>\n",
       "      <th>choiceType4</th>\n",
       "      <th>choice</th>\n",
       "      <th>binaryCorrect</th>\n",
       "    </tr>\n",
       "  </thead>\n",
       "  <tbody>\n",
       "    <tr>\n",
       "      <th>2783</th>\n",
       "      <td>id_Wed Apr 19 2017 10:22:24 GMT+0700 (SE Asia ...</td>\n",
       "      <td>female</td>\n",
       "      <td>condition_AdjDem</td>\n",
       "      <td>testTrial32_outer_2_hat those_those hat_----_-...</td>\n",
       "      <td>test</td>\n",
       "      <td>testTrial32</td>\n",
       "      <td>outer</td>\n",
       "      <td>2</td>\n",
       "      <td>hat those</td>\n",
       "      <td>those hat</td>\n",
       "      <td>...</td>\n",
       "      <td>hat</td>\n",
       "      <td>True</td>\n",
       "      <td>True</td>\n",
       "      <td>NaN</td>\n",
       "      <td>NaN</td>\n",
       "      <td>NaN</td>\n",
       "      <td>NaN</td>\n",
       "      <td>NaN</td>\n",
       "      <td>2</td>\n",
       "      <td>1</td>\n",
       "    </tr>\n",
       "    <tr>\n",
       "      <th>1662</th>\n",
       "      <td>id_Mon Mar 20 2017 21:59:31 GMT+0700 (SE Asia ...</td>\n",
       "      <td>male</td>\n",
       "      <td>condition_AdjDem</td>\n",
       "      <td>testTrial31_inner-outer_2_pig furry these_thes...</td>\n",
       "      <td>test</td>\n",
       "      <td>testTrial31</td>\n",
       "      <td>inner-outer</td>\n",
       "      <td>2</td>\n",
       "      <td>pig furry these</td>\n",
       "      <td>these furry pig</td>\n",
       "      <td>...</td>\n",
       "      <td>pig</td>\n",
       "      <td>NaN</td>\n",
       "      <td>NaN</td>\n",
       "      <td>NaN</td>\n",
       "      <td>NaN</td>\n",
       "      <td>NaN</td>\n",
       "      <td>NaN</td>\n",
       "      <td>NaN</td>\n",
       "      <td>2</td>\n",
       "      <td>1</td>\n",
       "    </tr>\n",
       "    <tr>\n",
       "      <th>2686</th>\n",
       "      <td>id_Wed Apr 19 2017 10:16:22 GMT+0700 (SE Asia ...</td>\n",
       "      <td>female</td>\n",
       "      <td>condition_AdjDem</td>\n",
       "      <td>testTrial15_inner-outer_4_round these cherry_c...</td>\n",
       "      <td>test</td>\n",
       "      <td>testTrial15</td>\n",
       "      <td>inner-outer</td>\n",
       "      <td>4</td>\n",
       "      <td>round these cherry</td>\n",
       "      <td>cherry round these</td>\n",
       "      <td>...</td>\n",
       "      <td>cherry</td>\n",
       "      <td>True</td>\n",
       "      <td>False</td>\n",
       "      <td>True</td>\n",
       "      <td>Inner-Outer-N</td>\n",
       "      <td>N-Inner-Outer</td>\n",
       "      <td>N-Outer-Inner</td>\n",
       "      <td>Outer-Inner-N</td>\n",
       "      <td>4</td>\n",
       "      <td>1</td>\n",
       "    </tr>\n",
       "    <tr>\n",
       "      <th>1668</th>\n",
       "      <td>id_Mon Mar 20 2017 21:59:31 GMT+0700 (SE Asia ...</td>\n",
       "      <td>male</td>\n",
       "      <td>condition_AdjDem</td>\n",
       "      <td>testTrial37_inner_2_spatula purple_purple spat...</td>\n",
       "      <td>test</td>\n",
       "      <td>testTrial37</td>\n",
       "      <td>inner</td>\n",
       "      <td>2</td>\n",
       "      <td>spatula purple</td>\n",
       "      <td>purple spatula</td>\n",
       "      <td>...</td>\n",
       "      <td>spatula</td>\n",
       "      <td>NaN</td>\n",
       "      <td>NaN</td>\n",
       "      <td>NaN</td>\n",
       "      <td>NaN</td>\n",
       "      <td>NaN</td>\n",
       "      <td>NaN</td>\n",
       "      <td>NaN</td>\n",
       "      <td>2</td>\n",
       "      <td>1</td>\n",
       "    </tr>\n",
       "    <tr>\n",
       "      <th>3430</th>\n",
       "      <td>id_Wed Apr 19 2017 13:14:00 GMT+0700 (SE Asia ...</td>\n",
       "      <td>male</td>\n",
       "      <td>condition_AdjNum</td>\n",
       "      <td>testTrial39_inner-outer_1_nine purple cow_cow ...</td>\n",
       "      <td>test</td>\n",
       "      <td>testTrial39</td>\n",
       "      <td>inner-outer</td>\n",
       "      <td>1</td>\n",
       "      <td>nine purple cow</td>\n",
       "      <td>cow purple nine</td>\n",
       "      <td>...</td>\n",
       "      <td>cow</td>\n",
       "      <td>True</td>\n",
       "      <td>True</td>\n",
       "      <td>False</td>\n",
       "      <td>Outer-Inner-N</td>\n",
       "      <td>N-Inner-Outer</td>\n",
       "      <td>N-Outer-Inner</td>\n",
       "      <td>Inner-Outer-N</td>\n",
       "      <td>1</td>\n",
       "      <td>1</td>\n",
       "    </tr>\n",
       "  </tbody>\n",
       "</table>\n",
       "<p>5 rows × 23 columns</p>\n",
       "</div>"
      ],
      "text/plain": [
       "                                                     ID     sex  \\\n",
       "2783  id_Wed Apr 19 2017 10:22:24 GMT+0700 (SE Asia ...  female   \n",
       "1662  id_Mon Mar 20 2017 21:59:31 GMT+0700 (SE Asia ...    male   \n",
       "2686  id_Wed Apr 19 2017 10:16:22 GMT+0700 (SE Asia ...  female   \n",
       "1668  id_Mon Mar 20 2017 21:59:31 GMT+0700 (SE Asia ...    male   \n",
       "3430  id_Wed Apr 19 2017 13:14:00 GMT+0700 (SE Asia ...    male   \n",
       "\n",
       "             condition                                             trials  \\\n",
       "2783  condition_AdjDem  testTrial32_outer_2_hat those_those hat_----_-...   \n",
       "1662  condition_AdjDem  testTrial31_inner-outer_2_pig furry these_thes...   \n",
       "2686  condition_AdjDem  testTrial15_inner-outer_4_round these cherry_c...   \n",
       "1668  condition_AdjDem  testTrial37_inner_2_spatula purple_purple spat...   \n",
       "3430  condition_AdjNum  testTrial39_inner-outer_1_nine purple cow_cow ...   \n",
       "\n",
       "     phase        trial         type  correctChoice             choice1  \\\n",
       "2783  test  testTrial32        outer              2           hat those   \n",
       "1662  test  testTrial31  inner-outer              2     pig furry these   \n",
       "2686  test  testTrial15  inner-outer              4  round these cherry   \n",
       "1668  test  testTrial37        inner              2      spatula purple   \n",
       "3430  test  testTrial39  inner-outer              1     nine purple cow   \n",
       "\n",
       "                 choice2      ...           mod oldNoun oldMod1 oldMod2  \\\n",
       "2783           those hat      ...           hat    True    True     NaN   \n",
       "1662     these furry pig      ...           pig     NaN     NaN     NaN   \n",
       "2686  cherry round these      ...        cherry    True   False    True   \n",
       "1668      purple spatula      ...       spatula     NaN     NaN     NaN   \n",
       "3430     cow purple nine      ...           cow    True    True   False   \n",
       "\n",
       "        choiceType1    choiceType2    choiceType3    choiceType4 choice  \\\n",
       "2783            NaN            NaN            NaN            NaN      2   \n",
       "1662            NaN            NaN            NaN            NaN      2   \n",
       "2686  Inner-Outer-N  N-Inner-Outer  N-Outer-Inner  Outer-Inner-N      4   \n",
       "1668            NaN            NaN            NaN            NaN      2   \n",
       "3430  Outer-Inner-N  N-Inner-Outer  N-Outer-Inner  Inner-Outer-N      1   \n",
       "\n",
       "     binaryCorrect  \n",
       "2783             1  \n",
       "1662             1  \n",
       "2686             1  \n",
       "1668             1  \n",
       "3430             1  \n",
       "\n",
       "[5 rows x 23 columns]"
      ]
     },
     "execution_count": 32,
     "metadata": {},
     "output_type": "execute_result"
    }
   ],
   "source": [
    "df.sample(5)"
   ]
  },
  {
   "cell_type": "markdown",
   "metadata": {},
   "source": [
    "Select data from the test phase only."
   ]
  },
  {
   "cell_type": "code",
   "execution_count": 3,
   "metadata": {},
   "outputs": [],
   "source": [
    "df = df[df.phase=='test']"
   ]
  },
  {
   "cell_type": "markdown",
   "metadata": {},
   "source": [
    "Check how many participants we have in each condition:"
   ]
  },
  {
   "cell_type": "code",
   "execution_count": 4,
   "metadata": {},
   "outputs": [
    {
     "data": {
      "text/plain": [
       "condition\n",
       "condition_AdjDem    20\n",
       "condition_AdjNum    21\n",
       "condition_NumDem    16\n",
       "Name: ID, dtype: int64"
      ]
     },
     "execution_count": 4,
     "metadata": {},
     "output_type": "execute_result"
    }
   ],
   "source": [
    "df.groupby('condition').ID.nunique()"
   ]
  },
  {
   "cell_type": "markdown",
   "metadata": {},
   "source": [
    "### Test trial accuracy (single modifier trials)\n",
    "\n",
    "Check by-participant accuracy on single-modifier trials.  The critical column is `post` denoting whether or not (1 or 0) a response was postnominal."
   ]
  },
  {
   "cell_type": "code",
   "execution_count": 33,
   "metadata": {},
   "outputs": [],
   "source": [
    "singleMods = df[df.type.isin(['inner','outer'])].groupby(['ID', 'condition'], as_index=False).binaryCorrect.mean()"
   ]
  },
  {
   "cell_type": "markdown",
   "metadata": {},
   "source": [
    "Plot histogram of single-modifier trial accuracy."
   ]
  },
  {
   "cell_type": "code",
   "execution_count": 34,
   "metadata": {},
   "outputs": [
    {
     "data": {
      "text/plain": [
       "(0, 1)"
      ]
     },
     "execution_count": 34,
     "metadata": {},
     "output_type": "execute_result"
    },
    {
     "data": {
      "image/png": "[encoded data removed]",
      "text/plain": [
       "<matplotlib.figure.Figure at 0x10b80e110>"
      ]
     },
     "metadata": {},
     "output_type": "display_data"
    }
   ],
   "source": [
    "ax = df[df.type.isin(['inner','outer'])].groupby(['ID', 'condition']).binaryCorrect.mean().hist(color='green')\n",
    "ax.set_xlim((0,1))"
   ]
  },
  {
   "cell_type": "markdown",
   "metadata": {},
   "source": [
    "Participants are clearly responding correctly on single modifier trials, with only a couple of uncooperative people below the 0.85 threshold.  Their data are excluded."
   ]
  },
  {
   "cell_type": "code",
   "execution_count": 35,
   "metadata": {},
   "outputs": [],
   "source": [
    "badParticipants = singleMods[singleMods.binaryCorrect<0.85].ID.unique()\n",
    "df = df[~df.ID.isin(badParticipants)]"
   ]
  },
  {
   "cell_type": "markdown",
   "metadata": {},
   "source": [
    "### Participant N's\n",
    "\n",
    "Now check N's again to see how many participants remain after exclusion."
   ]
  },
  {
   "cell_type": "code",
   "execution_count": 36,
   "metadata": {},
   "outputs": [
    {
     "data": {
      "text/plain": [
       "condition\n",
       "condition_AdjDem    18\n",
       "condition_AdjNum    18\n",
       "condition_NumDem    15\n",
       "Name: ID, dtype: int64"
      ]
     },
     "execution_count": 36,
     "metadata": {},
     "output_type": "execute_result"
    }
   ],
   "source": [
    "df.groupby('condition').ID.nunique()"
   ]
  },
  {
   "cell_type": "markdown",
   "metadata": {},
   "source": [
    "### Test trial accuracy (two-modifier trials)\n",
    "\n",
    "Plot histogram of two-modifier trial accuracy for remaining participants."
   ]
  },
  {
   "cell_type": "code",
   "execution_count": 37,
   "metadata": {},
   "outputs": [
    {
     "data": {
      "text/plain": [
       "(0, 1)"
      ]
     },
     "execution_count": 37,
     "metadata": {},
     "output_type": "execute_result"
    },
    {
     "data": {
      "image/png": "[encoded data removed]",
      "text/plain": [
       "<matplotlib.figure.Figure at 0x1a18fd4790>"
      ]
     },
     "metadata": {},
     "output_type": "display_data"
    }
   ],
   "source": [
    "ax = df[df.type=='inner-outer'].groupby(['ID', 'condition']).binaryCorrect.mean().hist(color='green')\n",
    "ax.set_xlim((0,1))"
   ]
  },
  {
   "cell_type": "code",
   "execution_count": 38,
   "metadata": {},
   "outputs": [],
   "source": [
    "aggregators = {'binaryCorrect':mean}\n",
    "\n",
    "gp = df[df.type=='inner-outer'].groupby(['ID', 'condition'], as_index=False).agg(aggregators)\n",
    "\n",
    "order = ['condition_AdjDem', 'condition_NumDem', 'condition_AdjNum']"
   ]
  },
  {
   "cell_type": "code",
   "execution_count": 39,
   "metadata": {},
   "outputs": [
    {
     "data": {
      "text/plain": [
       "[<matplotlib.lines.Line2D at 0x1a19788750>]"
      ]
     },
     "execution_count": 39,
     "metadata": {},
     "output_type": "execute_result"
    },
    {
     "data": {
      "image/png": "[encoded data removed]",
      "text/plain": [
       "<matplotlib.figure.Figure at 0x1a18fae1d0>"
      ]
     },
     "metadata": {},
     "output_type": "display_data"
    }
   ],
   "source": [
    "fig, ax = subplots()\n",
    "\n",
    "sns.barplot(x='condition', y='binaryCorrect', data=gp, ax=ax, alpha=0, capsize=0.2, errcolor='darkgrey', order=order)\n",
    "sns.swarmplot(x='condition', y='binaryCorrect', data=gp, ax=ax, color='green', order=order)\n",
    "\n",
    "ax.set(ylim=(-0.05,1.05))\n",
    "ax.plot(range(-1,4), [0.5]*5, color='grey', linestyle='--', linewidth=0.5)"
   ]
  },
  {
   "cell_type": "markdown",
   "metadata": {},
   "source": [
    "### Checks\n",
    "\n",
    "What are the participants below chance level doing?  Particularly in the AdjNum condition, where group performance is not different from chance (see stats below)...\n",
    "\n",
    "What are they answering?  Are they selecting the incorrect prenominal order or are they not doing the task correctly?"
   ]
  },
  {
   "cell_type": "code",
   "execution_count": 40,
   "metadata": {},
   "outputs": [],
   "source": [
    "def isIncorrectResponseTypePostnominal(i):\n",
    "    row = df.loc[i]\n",
    "    if row.binaryCorrect == 1:\n",
    "        return 0\n",
    "    \n",
    "    response = row.choice\n",
    "    responseType = row['choiceType'+str(response)]\n",
    "    \n",
    "    try:\n",
    "        if responseType[-1] == 'N':\n",
    "            return 0\n",
    "        else:\n",
    "            return 1\n",
    "    except:\n",
    "        return 0\n",
    "    \n",
    "df['responsePostnominal'] = df.index.map(lambda x: isIncorrectResponseTypePostnominal(x))\n",
    "\n",
    "# print df.groupby('condition').responsePostnominal.count()\n",
    "\n",
    "aggregators = {'responsePostnominal':mean}\n",
    "\n",
    "gp = df[df.type=='inner-outer'].groupby(['ID', 'condition'], as_index=False).agg(aggregators)"
   ]
  },
  {
   "cell_type": "markdown",
   "metadata": {},
   "source": [
    "It appears that very few responses overall are postnominal, so mostly, participants are on task.  Below is the proportion of incorrect (i.e., non [prenominal isomorphic]) responses that are actually postnominal (and thus, off-task).  Apparently participants who are giving non-isomorphic responses are still choosing the prenominal positioning."
   ]
  },
  {
   "cell_type": "code",
   "execution_count": 41,
   "metadata": {},
   "outputs": [
    {
     "name": "stdout",
     "output_type": "stream",
     "text": [
      "condition\n",
      "condition_AdjDem    0.129630\n",
      "condition_AdjNum    0.066667\n",
      "condition_NumDem    0.044444\n",
      "Name: responsePostnominal, dtype: float64\n"
     ]
    },
    {
     "data": {
      "image/png": "[encoded data removed]",
      "text/plain": [
       "<matplotlib.figure.Figure at 0x1a19769190>"
      ]
     },
     "metadata": {},
     "output_type": "display_data"
    }
   ],
   "source": [
    "fig, ax = subplots()\n",
    "\n",
    "sns.barplot(x='condition', y='responsePostnominal', data=gp, ax=ax, alpha=0, capsize=0.2, errcolor='darkgrey', order=order)\n",
    "sns.swarmplot(x='condition', y='responsePostnominal', data=gp, ax=ax, color='green', order=order)\n",
    "\n",
    "ax.set(ylim=(-0.05,1.05), ylabel='Proportion postnominal response')\n",
    "# ax.plot(range(-1,4), [0.5]*5, color='grey', linestyle='--', linewidth=0.5)\n",
    "\n",
    "print gp.groupby('condition').responsePostnominal.mean()"
   ]
  },
  {
   "cell_type": "markdown",
   "metadata": {},
   "source": [
    "Of the low number of responses that are incorrect, most participants are choosing the non-isomorphic prenominal order.  While this goes against the universal, it at least means that they have understood that modifiers precede rather than follow the noun in the experiment (i.e., they are on-task)."
   ]
  },
  {
   "cell_type": "markdown",
   "metadata": {},
   "source": [
    "## R modelling\n",
    "\n",
    "Prepare to do R modelling."
   ]
  },
  {
   "cell_type": "code",
   "execution_count": 42,
   "metadata": {},
   "outputs": [
    {
     "name": "stdout",
     "output_type": "stream",
     "text": [
      "The rpy2.ipython extension is already loaded. To reload it, use:\n",
      "  %reload_ext rpy2.ipython\n"
     ]
    }
   ],
   "source": [
    "%load_ext rpy2.ipython"
   ]
  },
  {
   "cell_type": "markdown",
   "metadata": {},
   "source": [
    "Load in data and create subsets on which each model will be run."
   ]
  },
  {
   "cell_type": "code",
   "execution_count": 43,
   "metadata": {},
   "outputs": [],
   "source": [
    "%%R\n",
    "library('lme4')\n",
    "\n",
    "d <- read.csv('../data/U20Thai_TestData.csv')\n",
    "test <- subset(d, d$type=='inner-outer') # only select two modifier trials\n",
    "\n",
    "testAdjDem <- subset(test, test$condition==\"condition_AdjDem\")\n",
    "testAdjNum <- subset(test, test$condition==\"condition_AdjNum\")\n",
    "testNumDem <- subset(test, test$condition==\"condition_NumDem\")"
   ]
  },
  {
   "cell_type": "markdown",
   "metadata": {},
   "source": [
    "### Adj-Dem\n",
    "\n",
    "Run models for the adj-dem condition, and test whether intercept is significantly different from chance level."
   ]
  },
  {
   "cell_type": "code",
   "execution_count": 44,
   "metadata": {},
   "outputs": [
    {
     "data": {
      "text/plain": [
       "Data: testAdjDem\n",
       "Models:\n",
       "m0AdjDem: binaryCorrect ~ 0 + (1 | ID) + (1 | mod)\n",
       "m1AdjDem: binaryCorrect ~ 1 + (1 | ID) + (1 | mod)\n",
       "         Df    AIC    BIC  logLik deviance  Chisq Chi Df Pr(>Chisq)   \n",
       "m0AdjDem  2 673.48 682.28 -334.74   669.48                            \n",
       "m1AdjDem  3 668.06 681.25 -331.03   662.06 7.4271      1   0.006425 **\n",
       "---\n",
       "Signif. codes:  0 ‘***’ 0.001 ‘**’ 0.01 ‘*’ 0.05 ‘.’ 0.1 ‘ ’ 1\n"
      ]
     },
     "metadata": {},
     "output_type": "display_data"
    }
   ],
   "source": [
    "%%R\n",
    "\n",
    "m1AdjDem <- glmer(binaryCorrect ~ 1 + (1|ID) + (1|mod), family=binomial, data=testAdjDem)\n",
    "m0AdjDem <- glmer(binaryCorrect ~ 0 + (1|ID) + (1|mod), family=binomial, data=testAdjDem)\n",
    "\n",
    "anova(m1AdjDem, m0AdjDem)"
   ]
  },
  {
   "cell_type": "markdown",
   "metadata": {
    "collapsed": true
   },
   "source": [
    "### Adj-Num\n",
    "\n",
    "Run models for the adj-num condition, and test whether intercept is significantly different from chance level."
   ]
  },
  {
   "cell_type": "code",
   "execution_count": 45,
   "metadata": {},
   "outputs": [
    {
     "data": {
      "text/plain": [
       "Data: testAdjNum\n",
       "Models:\n",
       "m0AdjNum: binaryCorrect ~ 0 + (1 | ID) + (1 | mod)\n",
       "m1AdjNum: binaryCorrect ~ 1 + (1 | ID) + (1 | mod)\n",
       "         Df    AIC    BIC  logLik deviance  Chisq Chi Df Pr(>Chisq)\n",
       "m0AdjNum  2 598.27 607.06 -297.13   594.27                         \n",
       "m1AdjNum  3 599.06 612.25 -296.53   593.06 1.2151      1     0.2703\n"
      ]
     },
     "metadata": {},
     "output_type": "display_data"
    }
   ],
   "source": [
    "%%R\n",
    "\n",
    "m1AdjNum <- glmer(binaryCorrect ~ 1 + (1|ID) + (1|mod), family=binomial, data=testAdjNum)\n",
    "m0AdjNum <- glmer(binaryCorrect ~ 0 + (1|ID) + (1|mod), family=binomial, data=testAdjNum)\n",
    "\n",
    "anova(m1AdjNum, m0AdjNum)"
   ]
  },
  {
   "cell_type": "markdown",
   "metadata": {},
   "source": [
    "### Num-Dem\n",
    "\n",
    "Run models for the num-dem condition, and test whether intercept is significantly different from chance level."
   ]
  },
  {
   "cell_type": "code",
   "execution_count": 46,
   "metadata": {},
   "outputs": [
    {
     "data": {
      "text/plain": [
       "Data: testNumDem\n",
       "Models:\n",
       "m0NumDem: binaryCorrect ~ 0 + (1 | ID) + (1 | mod)\n",
       "m1NumDem: binaryCorrect ~ 1 + (1 | ID) + (1 | mod)\n",
       "         Df    AIC    BIC  logLik deviance  Chisq Chi Df Pr(>Chisq)  \n",
       "m0NumDem  2 347.92 356.27 -171.96   343.92                           \n",
       "m1NumDem  3 343.89 356.41 -168.94   337.89 6.0372      1    0.01401 *\n",
       "---\n",
       "Signif. codes:  0 ‘***’ 0.001 ‘**’ 0.01 ‘*’ 0.05 ‘.’ 0.1 ‘ ’ 1\n"
      ]
     },
     "metadata": {},
     "output_type": "display_data"
    }
   ],
   "source": [
    "%%R\n",
    "\n",
    "m1NumDem <- glmer(binaryCorrect ~ 1 + (1|ID) + (1|mod), family=binomial, data=testNumDem)\n",
    "m0NumDem <- glmer(binaryCorrect ~ 0 + (1|ID) + (1|mod), family=binomial, data=testNumDem)\n",
    "\n",
    "anova(m1NumDem, m0NumDem)"
   ]
  },
  {
   "cell_type": "markdown",
   "metadata": {},
   "source": [
    "## Remarks\n",
    "\n",
    "Something funny is going on in the AdjNum condition.  Participants seem less likely to choose the prenominal isomorphic order and are instead preferring the prenominal non-isomorphic order: Adj Num N.  This does not follow from Gump's original comments suggesting that poor performance might be to do with their choosing N Num Adj as the order.  They do not seem to be doing that.  Note the relatively low N though and how performance in the AdjNum condition is just barely at chance level.  Likely that in more controlled lab experiment with proper N, everything will be hunky dorey."
   ]
  },
  {
   "cell_type": "code",
   "execution_count": null,
   "metadata": {},
   "outputs": [],
   "source": []
  }
 ],
 "metadata": {
  "kernelspec": {
   "display_name": "Python 2",
   "language": "python",
   "name": "python2"
  },
  "language_info": {
   "codemirror_mode": {
    "name": "ipython",
    "version": 2
   },
   "file_extension": ".py",
   "mimetype": "text/x-python",
   "name": "python",
   "nbconvert_exporter": "python",
   "pygments_lexer": "ipython2",
   "version": "2.7.14"
  }
 },
 "nbformat": 4,
 "nbformat_minor": 1
}
