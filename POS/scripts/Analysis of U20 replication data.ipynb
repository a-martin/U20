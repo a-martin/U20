{
 "cells": [
  {
   "cell_type": "markdown",
   "metadata": {},
   "source": [
    "# Analysis of U20 lab-based replication"
   ]
  },
  {
   "cell_type": "markdown",
   "metadata": {},
   "source": [
    "Load libraries and data in."
   ]
  },
  {
   "cell_type": "code",
   "execution_count": 1,
   "metadata": {},
   "outputs": [],
   "source": [
    "%matplotlib inline\n",
    "\n",
    "import pandas as pd\n",
    "import seaborn as sns\n",
    "from numpy import * \n",
    "\n",
    "df = pd.read_csv('../data/test/ENGtest.csv')"
   ]
  },
  {
   "cell_type": "markdown",
   "metadata": {},
   "source": [
    "Check that data were loaded correctly."
   ]
  },
  {
   "cell_type": "code",
   "execution_count": 27,
   "metadata": {},
   "outputs": [
    {
     "data": {
      "text/html": [
       "<div>\n",
       "<style scoped>\n",
       "    .dataframe tbody tr th:only-of-type {\n",
       "        vertical-align: middle;\n",
       "    }\n",
       "\n",
       "    .dataframe tbody tr th {\n",
       "        vertical-align: top;\n",
       "    }\n",
       "\n",
       "    .dataframe thead th {\n",
       "        text-align: right;\n",
       "    }\n",
       "</style>\n",
       "<table border=\"1\" class=\"dataframe\">\n",
       "  <thead>\n",
       "    <tr style=\"text-align: right;\">\n",
       "      <th></th>\n",
       "      <th>age</th>\n",
       "      <th>buttonA</th>\n",
       "      <th>buttonB</th>\n",
       "      <th>buttonC</th>\n",
       "      <th>buttonD</th>\n",
       "      <th>cond</th>\n",
       "      <th>date</th>\n",
       "      <th>gender</th>\n",
       "      <th>iso</th>\n",
       "      <th>modInner</th>\n",
       "      <th>modOuter</th>\n",
       "      <th>nbMods</th>\n",
       "      <th>noun</th>\n",
       "      <th>post</th>\n",
       "      <th>response</th>\n",
       "      <th>responseButton</th>\n",
       "      <th>suj</th>\n",
       "      <th>trial</th>\n",
       "      <th>nounSing</th>\n",
       "    </tr>\n",
       "  </thead>\n",
       "  <tbody>\n",
       "    <tr>\n",
       "      <th>111</th>\n",
       "      <td>21.0</td>\n",
       "      <td>suitcase wooden</td>\n",
       "      <td>wooden suitcase</td>\n",
       "      <td>NaN</td>\n",
       "      <td>NaN</td>\n",
       "      <td>dem-adj</td>\n",
       "      <td>2017-11-16 15:24</td>\n",
       "      <td>F</td>\n",
       "      <td>NaN</td>\n",
       "      <td>NaN</td>\n",
       "      <td>wooden</td>\n",
       "      <td>1</td>\n",
       "      <td>suitcase</td>\n",
       "      <td>1.0</td>\n",
       "      <td>suitcase wooden</td>\n",
       "      <td>0.0</td>\n",
       "      <td>ENG1003</td>\n",
       "      <td>11.0</td>\n",
       "      <td>suitcase</td>\n",
       "    </tr>\n",
       "    <tr>\n",
       "      <th>229</th>\n",
       "      <td>18.0</td>\n",
       "      <td>striped four spatulas</td>\n",
       "      <td>spatulas four striped</td>\n",
       "      <td>four striped spatulas</td>\n",
       "      <td>spatulas striped four</td>\n",
       "      <td>num-adj</td>\n",
       "      <td>2017-11-16 14:58</td>\n",
       "      <td>M</td>\n",
       "      <td>1.0</td>\n",
       "      <td>striped</td>\n",
       "      <td>four</td>\n",
       "      <td>2</td>\n",
       "      <td>spatulas</td>\n",
       "      <td>NaN</td>\n",
       "      <td>spatulas striped four</td>\n",
       "      <td>3.0</td>\n",
       "      <td>ENG1002</td>\n",
       "      <td>29.0</td>\n",
       "      <td>spatula</td>\n",
       "    </tr>\n",
       "    <tr>\n",
       "      <th>8</th>\n",
       "      <td>22.0</td>\n",
       "      <td>trays eight</td>\n",
       "      <td>eight trays</td>\n",
       "      <td>NaN</td>\n",
       "      <td>NaN</td>\n",
       "      <td>dem-num</td>\n",
       "      <td>2017-11-14 16:21</td>\n",
       "      <td>M</td>\n",
       "      <td>NaN</td>\n",
       "      <td>NaN</td>\n",
       "      <td>eight</td>\n",
       "      <td>1</td>\n",
       "      <td>trays</td>\n",
       "      <td>1.0</td>\n",
       "      <td>trays eight</td>\n",
       "      <td>0.0</td>\n",
       "      <td>ENG1001</td>\n",
       "      <td>8.0</td>\n",
       "      <td>tray</td>\n",
       "    </tr>\n",
       "    <tr>\n",
       "      <th>167</th>\n",
       "      <td>22.0</td>\n",
       "      <td>shoe that</td>\n",
       "      <td>that shoe</td>\n",
       "      <td>NaN</td>\n",
       "      <td>NaN</td>\n",
       "      <td>dem-num</td>\n",
       "      <td>2017-11-14 16:21</td>\n",
       "      <td>M</td>\n",
       "      <td>NaN</td>\n",
       "      <td>NaN</td>\n",
       "      <td>that</td>\n",
       "      <td>1</td>\n",
       "      <td>shoe</td>\n",
       "      <td>1.0</td>\n",
       "      <td>shoe that</td>\n",
       "      <td>0.0</td>\n",
       "      <td>ENG1001</td>\n",
       "      <td>17.0</td>\n",
       "      <td>shoe</td>\n",
       "    </tr>\n",
       "    <tr>\n",
       "      <th>101</th>\n",
       "      <td>21.0</td>\n",
       "      <td>pear that</td>\n",
       "      <td>that pear</td>\n",
       "      <td>NaN</td>\n",
       "      <td>NaN</td>\n",
       "      <td>dem-adj</td>\n",
       "      <td>2017-11-16 15:24</td>\n",
       "      <td>F</td>\n",
       "      <td>NaN</td>\n",
       "      <td>NaN</td>\n",
       "      <td>that</td>\n",
       "      <td>1</td>\n",
       "      <td>pear</td>\n",
       "      <td>1.0</td>\n",
       "      <td>pear that</td>\n",
       "      <td>0.0</td>\n",
       "      <td>ENG1003</td>\n",
       "      <td>1.0</td>\n",
       "      <td>pear</td>\n",
       "    </tr>\n",
       "    <tr>\n",
       "      <th>9</th>\n",
       "      <td>22.0</td>\n",
       "      <td>four those couches</td>\n",
       "      <td>couches four those</td>\n",
       "      <td>couches those four</td>\n",
       "      <td>those four couches</td>\n",
       "      <td>dem-num</td>\n",
       "      <td>2017-11-14 16:21</td>\n",
       "      <td>M</td>\n",
       "      <td>1.0</td>\n",
       "      <td>four</td>\n",
       "      <td>those</td>\n",
       "      <td>2</td>\n",
       "      <td>couches</td>\n",
       "      <td>NaN</td>\n",
       "      <td>couches four those</td>\n",
       "      <td>1.0</td>\n",
       "      <td>ENG1001</td>\n",
       "      <td>9.0</td>\n",
       "      <td>couch</td>\n",
       "    </tr>\n",
       "    <tr>\n",
       "      <th>233</th>\n",
       "      <td>18.0</td>\n",
       "      <td>dirty nine darts</td>\n",
       "      <td>darts nine dirty</td>\n",
       "      <td>darts dirty nine</td>\n",
       "      <td>nine dirty darts</td>\n",
       "      <td>num-adj</td>\n",
       "      <td>2017-11-16 14:58</td>\n",
       "      <td>M</td>\n",
       "      <td>1.0</td>\n",
       "      <td>dirty</td>\n",
       "      <td>nine</td>\n",
       "      <td>2</td>\n",
       "      <td>darts</td>\n",
       "      <td>NaN</td>\n",
       "      <td>darts dirty nine</td>\n",
       "      <td>2.0</td>\n",
       "      <td>ENG1002</td>\n",
       "      <td>33.0</td>\n",
       "      <td>dart</td>\n",
       "    </tr>\n",
       "    <tr>\n",
       "      <th>348</th>\n",
       "      <td>22.0</td>\n",
       "      <td>cows these eight</td>\n",
       "      <td>cows eight these</td>\n",
       "      <td>these eight cows</td>\n",
       "      <td>eight these cows</td>\n",
       "      <td>dem-num</td>\n",
       "      <td>2017-11-14 16:21</td>\n",
       "      <td>M</td>\n",
       "      <td>1.0</td>\n",
       "      <td>eight</td>\n",
       "      <td>these</td>\n",
       "      <td>2</td>\n",
       "      <td>cows</td>\n",
       "      <td>NaN</td>\n",
       "      <td>cows eight these</td>\n",
       "      <td>1.0</td>\n",
       "      <td>ENG1001</td>\n",
       "      <td>48.0</td>\n",
       "      <td>cow</td>\n",
       "    </tr>\n",
       "    <tr>\n",
       "      <th>260</th>\n",
       "      <td>21.0</td>\n",
       "      <td>blue this shirt</td>\n",
       "      <td>shirt this blue</td>\n",
       "      <td>shirt blue this</td>\n",
       "      <td>this blue shirt</td>\n",
       "      <td>dem-adj</td>\n",
       "      <td>2017-11-16 15:24</td>\n",
       "      <td>F</td>\n",
       "      <td>1.0</td>\n",
       "      <td>blue</td>\n",
       "      <td>this</td>\n",
       "      <td>2</td>\n",
       "      <td>shirt</td>\n",
       "      <td>NaN</td>\n",
       "      <td>shirt blue this</td>\n",
       "      <td>2.0</td>\n",
       "      <td>ENG1003</td>\n",
       "      <td>10.0</td>\n",
       "      <td>shirt</td>\n",
       "    </tr>\n",
       "    <tr>\n",
       "      <th>277</th>\n",
       "      <td>21.0</td>\n",
       "      <td>shoe spotted</td>\n",
       "      <td>spotted shoe</td>\n",
       "      <td>NaN</td>\n",
       "      <td>NaN</td>\n",
       "      <td>dem-adj</td>\n",
       "      <td>2017-11-16 15:24</td>\n",
       "      <td>F</td>\n",
       "      <td>NaN</td>\n",
       "      <td>NaN</td>\n",
       "      <td>spotted</td>\n",
       "      <td>1</td>\n",
       "      <td>shoe</td>\n",
       "      <td>1.0</td>\n",
       "      <td>shoe spotted</td>\n",
       "      <td>0.0</td>\n",
       "      <td>ENG1003</td>\n",
       "      <td>27.0</td>\n",
       "      <td>shoe</td>\n",
       "    </tr>\n",
       "  </tbody>\n",
       "</table>\n",
       "</div>"
      ],
      "text/plain": [
       "      age                buttonA                buttonB  \\\n",
       "111  21.0        suitcase wooden        wooden suitcase   \n",
       "229  18.0  striped four spatulas  spatulas four striped   \n",
       "8    22.0            trays eight            eight trays   \n",
       "167  22.0              shoe that              that shoe   \n",
       "101  21.0              pear that              that pear   \n",
       "9    22.0     four those couches     couches four those   \n",
       "233  18.0       dirty nine darts       darts nine dirty   \n",
       "348  22.0       cows these eight       cows eight these   \n",
       "260  21.0        blue this shirt        shirt this blue   \n",
       "277  21.0           shoe spotted           spotted shoe   \n",
       "\n",
       "                   buttonC                buttonD     cond              date  \\\n",
       "111                    NaN                    NaN  dem-adj  2017-11-16 15:24   \n",
       "229  four striped spatulas  spatulas striped four  num-adj  2017-11-16 14:58   \n",
       "8                      NaN                    NaN  dem-num  2017-11-14 16:21   \n",
       "167                    NaN                    NaN  dem-num  2017-11-14 16:21   \n",
       "101                    NaN                    NaN  dem-adj  2017-11-16 15:24   \n",
       "9       couches those four     those four couches  dem-num  2017-11-14 16:21   \n",
       "233       darts dirty nine       nine dirty darts  num-adj  2017-11-16 14:58   \n",
       "348       these eight cows       eight these cows  dem-num  2017-11-14 16:21   \n",
       "260        shirt blue this        this blue shirt  dem-adj  2017-11-16 15:24   \n",
       "277                    NaN                    NaN  dem-adj  2017-11-16 15:24   \n",
       "\n",
       "    gender  iso modInner modOuter  nbMods      noun  post  \\\n",
       "111      F  NaN      NaN   wooden       1  suitcase   1.0   \n",
       "229      M  1.0  striped     four       2  spatulas   NaN   \n",
       "8        M  NaN      NaN    eight       1     trays   1.0   \n",
       "167      M  NaN      NaN     that       1      shoe   1.0   \n",
       "101      F  NaN      NaN     that       1      pear   1.0   \n",
       "9        M  1.0     four    those       2   couches   NaN   \n",
       "233      M  1.0    dirty     nine       2     darts   NaN   \n",
       "348      M  1.0    eight    these       2      cows   NaN   \n",
       "260      F  1.0     blue     this       2     shirt   NaN   \n",
       "277      F  NaN      NaN  spotted       1      shoe   1.0   \n",
       "\n",
       "                  response  responseButton      suj  trial  nounSing  \n",
       "111        suitcase wooden             0.0  ENG1003   11.0  suitcase  \n",
       "229  spatulas striped four             3.0  ENG1002   29.0   spatula  \n",
       "8              trays eight             0.0  ENG1001    8.0      tray  \n",
       "167              shoe that             0.0  ENG1001   17.0      shoe  \n",
       "101              pear that             0.0  ENG1003    1.0      pear  \n",
       "9       couches four those             1.0  ENG1001    9.0     couch  \n",
       "233       darts dirty nine             2.0  ENG1002   33.0      dart  \n",
       "348       cows eight these             1.0  ENG1001   48.0       cow  \n",
       "260        shirt blue this             2.0  ENG1003   10.0     shirt  \n",
       "277           shoe spotted             0.0  ENG1003   27.0      shoe  "
      ]
     },
     "execution_count": 27,
     "metadata": {},
     "output_type": "execute_result"
    }
   ],
   "source": [
    "df.sample(10)"
   ]
  },
  {
   "cell_type": "markdown",
   "metadata": {},
   "source": [
    "Note that these data are only from the testing phase, so unlike in the original experiment, no separation of the data is necessary."
   ]
  },
  {
   "cell_type": "markdown",
   "metadata": {},
   "source": [
    "Check how many participants we have in each condition:"
   ]
  },
  {
   "cell_type": "code",
   "execution_count": 3,
   "metadata": {},
   "outputs": [
    {
     "data": {
      "text/plain": [
       "cond\n",
       "dem-adj    1\n",
       "dem-num    1\n",
       "num-adj    1\n",
       "Name: suj, dtype: int64"
      ]
     },
     "execution_count": 3,
     "metadata": {},
     "output_type": "execute_result"
    }
   ],
   "source": [
    "df.groupby('cond').suj.nunique()"
   ]
  },
  {
   "cell_type": "markdown",
   "metadata": {},
   "source": [
    "Check by participant accuracy on single-modifier trials.  The critical column is `post` denoting whether or not (1 or 0) a response was postnominal."
   ]
  },
  {
   "cell_type": "code",
   "execution_count": 4,
   "metadata": {},
   "outputs": [
    {
     "data": {
      "text/plain": [
       "suj      cond   \n",
       "ENG1001  dem-num    1.0\n",
       "ENG1002  num-adj    1.0\n",
       "ENG1003  dem-adj    1.0\n",
       "Name: post, dtype: float64"
      ]
     },
     "execution_count": 4,
     "metadata": {},
     "output_type": "execute_result"
    }
   ],
   "source": [
    "df[df.nbMods == 1].groupby(['suj', 'cond']).post.mean()"
   ]
  },
  {
   "cell_type": "markdown",
   "metadata": {},
   "source": [
    "Plot histogram of single-modifier trial accuracy."
   ]
  },
  {
   "cell_type": "code",
   "execution_count": 5,
   "metadata": {},
   "outputs": [
    {
     "data": {
      "text/plain": [
       "suj      cond   \n",
       "ENG1001  dem-num    AxesSubplot(0.125,0.125;0.775x0.755)\n",
       "ENG1002  num-adj    AxesSubplot(0.125,0.125;0.775x0.755)\n",
       "ENG1003  dem-adj    AxesSubplot(0.125,0.125;0.775x0.755)\n",
       "Name: post, dtype: object"
      ]
     },
     "execution_count": 5,
     "metadata": {},
     "output_type": "execute_result"
    },
    {
     "data": {
      "image/png": "[encoded data removed]",
      "text/plain": [
       "<matplotlib.figure.Figure at 0x10eeb4ad0>"
      ]
     },
     "metadata": {},
     "output_type": "display_data"
    }
   ],
   "source": [
    "df[df.nbMods == 1].groupby(['suj', 'cond']).post.hist()"
   ]
  },
  {
   "cell_type": "code",
   "execution_count": 6,
   "metadata": {},
   "outputs": [],
   "source": [
    "aggregators = {'iso':mean}\n",
    "\n",
    "gp = df[df.nbMods == 2].groupby(['suj', 'cond'], as_index=False).agg(aggregators)"
   ]
  },
  {
   "cell_type": "code",
   "execution_count": 7,
   "metadata": {},
   "outputs": [
    {
     "data": {
      "text/plain": [
       "[(-0.05, 1.05)]"
      ]
     },
     "execution_count": 7,
     "metadata": {},
     "output_type": "execute_result"
    },
    {
     "data": {
      "image/png": "[encoded data removed]",
      "text/plain": [
       "<matplotlib.figure.Figure at 0x10ee96a50>"
      ]
     },
     "metadata": {},
     "output_type": "display_data"
    }
   ],
   "source": [
    "ax = sns.swarmplot(x='cond', y='iso', data=gp)\n",
    "ax.set(ylim=(-0.05,1.05))"
   ]
  },
  {
   "cell_type": "markdown",
   "metadata": {},
   "source": [
    "Prepare to do R modelling."
   ]
  },
  {
   "cell_type": "code",
   "execution_count": 8,
   "metadata": {},
   "outputs": [],
   "source": [
    "%load_ext rpy2.ipython"
   ]
  },
  {
   "cell_type": "markdown",
   "metadata": {},
   "source": [
    "Load in data and create subsets on which each model will be run."
   ]
  },
  {
   "cell_type": "code",
   "execution_count": 21,
   "metadata": {},
   "outputs": [],
   "source": [
    "%%R\n",
    "library('lme4')\n",
    "\n",
    "d <- read.csv('../data/test/ENGtest.csv')\n",
    "test <- subset(d, d$nbMods==2) # only select two modifier trials\n",
    "\n",
    "testAdjDem <- subset(test, test$cond==\"dem-adj\")\n",
    "testAdjNum <- subset(test, test$cond==\"num-adj\")\n",
    "testNumDem <- subset(test, test$cond==\"dem-num\")"
   ]
  },
  {
   "cell_type": "markdown",
   "metadata": {},
   "source": [
    "Run models for the adj-dem condition, and test whether intercept is significantly different from chance level."
   ]
  },
  {
   "cell_type": "code",
   "execution_count": 24,
   "metadata": {},
   "outputs": [
    {
     "name": "stdout",
     "output_type": "stream",
     "text": [
      "\n",
      "Erreur : grouping factors must have > 1 sampled level\n"
     ]
    }
   ],
   "source": [
    "%%R\n",
    "\n",
    "m1AdjDem <- glmer(iso ~ 1 + (1|suj) + (1|nounSing), family=binomial, data=testAdjDem)\n",
    "m0AdjDem <- glmer(iso ~ 0 + (1|suj) + (1|nounSing), family=binomial, data=testAdjDem)\n",
    "\n",
    "anova(m1AdjDem, m0AdjDem)"
   ]
  },
  {
   "cell_type": "markdown",
   "metadata": {
    "collapsed": true
   },
   "source": [
    "Run models for the adj-num condition, and test whether intercept is significantly different from chance level."
   ]
  },
  {
   "cell_type": "code",
   "execution_count": 25,
   "metadata": {},
   "outputs": [
    {
     "name": "stdout",
     "output_type": "stream",
     "text": [
      "\n",
      "Erreur : grouping factors must have > 1 sampled level\n"
     ]
    }
   ],
   "source": [
    "%%R\n",
    "\n",
    "m1AdjNum <- glmer(iso ~ 1 + (1|suj) + (1|nounSing), family=binomial, data=testAdjNum)\n",
    "m0AdjNum <- glmer(iso ~ 0 + (1|suj) + (1|nounSing), family=binomial, data=testAdjNum)\n",
    "\n",
    "anova(m1AdjNum, m0AdjNum)"
   ]
  },
  {
   "cell_type": "markdown",
   "metadata": {},
   "source": [
    "Run models for the num-dem condition, and test whether intercept is significantly different from chance level."
   ]
  },
  {
   "cell_type": "code",
   "execution_count": 26,
   "metadata": {},
   "outputs": [
    {
     "name": "stdout",
     "output_type": "stream",
     "text": [
      "\n",
      "Erreur : grouping factors must have > 1 sampled level\n"
     ]
    }
   ],
   "source": [
    "%%R\n",
    "\n",
    "m1NumDem <- glmer(iso ~ 1 + (1|suj) + (1|nounSing), family=binomial, data=testNumDem)\n",
    "m0NumDem <- glmer(iso ~ 0 + (1|suj) + (1|nounSing), family=binomial, data=testNumDem)\n",
    "\n",
    "anova(m1NumDem, m0NumDem)"
   ]
  }
 ],
 "metadata": {
  "kernelspec": {
   "display_name": "Python 2",
   "language": "python",
   "name": "python2"
  },
  "language_info": {
   "codemirror_mode": {
    "name": "ipython",
    "version": 2
   },
   "file_extension": ".py",
   "mimetype": "text/x-python",
   "name": "python",
   "nbconvert_exporter": "python",
   "pygments_lexer": "ipython2",
   "version": "2.7.14"
  }
 },
 "nbformat": 4,
 "nbformat_minor": 1
}
